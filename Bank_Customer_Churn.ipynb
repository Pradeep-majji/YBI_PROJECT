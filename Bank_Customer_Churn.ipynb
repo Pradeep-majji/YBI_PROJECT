{
 "cells": [
  {
   "cell_type": "markdown",
   "metadata": {
    "id": "6GS0Sqw8I4-T"
   },
   "source": [
    "***Title : Bank Customer Churn Model***"
   ]
  },
  {
   "cell_type": "markdown",
   "metadata": {
    "id": "GRW27P4xJOaG"
   },
   "source": [
    "***Objective : The objective of the Bank Customer Churn Model project is to predict whether a customer will leave the bank or not, utilizing various parameters.***"
   ]
  },
  {
   "cell_type": "markdown",
   "metadata": {
    "id": "_oFFTvtQJ8wt"
   },
   "source": [
    "***Data Source: https://raw.githubusercontent.com/YBI-Foundation/Dataset/main/Bank%20Churn%20Modelling.csv***"
   ]
  },
  {
   "cell_type": "code",
   "execution_count": 1,
   "metadata": {
    "executionInfo": {
     "elapsed": 2407,
     "status": "ok",
     "timestamp": 1710859356310,
     "user": {
      "displayName": "Lakshmana Vinay Maddala",
      "userId": "04696997615404432546"
     },
     "user_tz": -330
    },
    "id": "jL53t2htKEa7"
   },
   "outputs": [],
   "source": [
    "#Import Library\n",
    "import numpy as np\n",
    "import pandas as pd\n",
    "import matplotlib.pyplot as plt\n",
    "import seaborn as sns"
   ]
  },
  {
   "cell_type": "code",
   "execution_count": 2,
   "metadata": {
    "colab": {
     "base_uri": "https://localhost:8080/",
     "height": 1543
    },
    "executionInfo": {
     "elapsed": 705,
     "status": "ok",
     "timestamp": 1710859379160,
     "user": {
      "displayName": "Lakshmana Vinay Maddala",
      "userId": "04696997615404432546"
     },
     "user_tz": -330
    },
    "id": "qnHxO07fKbp_",
    "outputId": "790b5405-d9bb-4ee0-e86c-c81761449d58"
   },
   "outputs": [
    {
     "data": {
      "text/html": [
       "<div>\n",
       "<style scoped>\n",
       "    .dataframe tbody tr th:only-of-type {\n",
       "        vertical-align: middle;\n",
       "    }\n",
       "\n",
       "    .dataframe tbody tr th {\n",
       "        vertical-align: top;\n",
       "    }\n",
       "\n",
       "    .dataframe thead th {\n",
       "        text-align: right;\n",
       "    }\n",
       "</style>\n",
       "<table border=\"1\" class=\"dataframe\">\n",
       "  <thead>\n",
       "    <tr style=\"text-align: right;\">\n",
       "      <th></th>\n",
       "      <th>CustomerId</th>\n",
       "      <th>Surname</th>\n",
       "      <th>CreditScore</th>\n",
       "      <th>Geography</th>\n",
       "      <th>Gender</th>\n",
       "      <th>Age</th>\n",
       "      <th>Tenure</th>\n",
       "      <th>Balance</th>\n",
       "      <th>Num Of Products</th>\n",
       "      <th>Has Credit Card</th>\n",
       "      <th>Is Active Member</th>\n",
       "      <th>Estimated Salary</th>\n",
       "      <th>Churn</th>\n",
       "    </tr>\n",
       "  </thead>\n",
       "  <tbody>\n",
       "    <tr>\n",
       "      <th>0</th>\n",
       "      <td>15634602</td>\n",
       "      <td>Hargrave</td>\n",
       "      <td>619</td>\n",
       "      <td>France</td>\n",
       "      <td>Female</td>\n",
       "      <td>42</td>\n",
       "      <td>2</td>\n",
       "      <td>0.00</td>\n",
       "      <td>1</td>\n",
       "      <td>1</td>\n",
       "      <td>1</td>\n",
       "      <td>101348.88</td>\n",
       "      <td>1</td>\n",
       "    </tr>\n",
       "    <tr>\n",
       "      <th>1</th>\n",
       "      <td>15647311</td>\n",
       "      <td>Hill</td>\n",
       "      <td>608</td>\n",
       "      <td>Spain</td>\n",
       "      <td>Female</td>\n",
       "      <td>41</td>\n",
       "      <td>1</td>\n",
       "      <td>83807.86</td>\n",
       "      <td>1</td>\n",
       "      <td>0</td>\n",
       "      <td>1</td>\n",
       "      <td>112542.58</td>\n",
       "      <td>0</td>\n",
       "    </tr>\n",
       "    <tr>\n",
       "      <th>2</th>\n",
       "      <td>15619304</td>\n",
       "      <td>Onio</td>\n",
       "      <td>502</td>\n",
       "      <td>France</td>\n",
       "      <td>Female</td>\n",
       "      <td>42</td>\n",
       "      <td>8</td>\n",
       "      <td>159660.80</td>\n",
       "      <td>3</td>\n",
       "      <td>1</td>\n",
       "      <td>0</td>\n",
       "      <td>113931.57</td>\n",
       "      <td>1</td>\n",
       "    </tr>\n",
       "    <tr>\n",
       "      <th>3</th>\n",
       "      <td>15701354</td>\n",
       "      <td>Boni</td>\n",
       "      <td>699</td>\n",
       "      <td>France</td>\n",
       "      <td>Female</td>\n",
       "      <td>39</td>\n",
       "      <td>1</td>\n",
       "      <td>0.00</td>\n",
       "      <td>2</td>\n",
       "      <td>0</td>\n",
       "      <td>0</td>\n",
       "      <td>93826.63</td>\n",
       "      <td>0</td>\n",
       "    </tr>\n",
       "    <tr>\n",
       "      <th>4</th>\n",
       "      <td>15737888</td>\n",
       "      <td>Mitchell</td>\n",
       "      <td>850</td>\n",
       "      <td>Spain</td>\n",
       "      <td>Female</td>\n",
       "      <td>43</td>\n",
       "      <td>2</td>\n",
       "      <td>125510.82</td>\n",
       "      <td>1</td>\n",
       "      <td>1</td>\n",
       "      <td>1</td>\n",
       "      <td>79084.10</td>\n",
       "      <td>0</td>\n",
       "    </tr>\n",
       "  </tbody>\n",
       "</table>\n",
       "</div>"
      ],
      "text/plain": [
       "   CustomerId   Surname  CreditScore Geography  Gender  Age  Tenure  \\\n",
       "0    15634602  Hargrave          619    France  Female   42       2   \n",
       "1    15647311      Hill          608     Spain  Female   41       1   \n",
       "2    15619304      Onio          502    France  Female   42       8   \n",
       "3    15701354      Boni          699    France  Female   39       1   \n",
       "4    15737888  Mitchell          850     Spain  Female   43       2   \n",
       "\n",
       "     Balance  Num Of Products  Has Credit Card  Is Active Member  \\\n",
       "0       0.00                1                1                 1   \n",
       "1   83807.86                1                0                 1   \n",
       "2  159660.80                3                1                 0   \n",
       "3       0.00                2                0                 0   \n",
       "4  125510.82                1                1                 1   \n",
       "\n",
       "   Estimated Salary  Churn  \n",
       "0         101348.88      1  \n",
       "1         112542.58      0  \n",
       "2         113931.57      1  \n",
       "3          93826.63      0  \n",
       "4          79084.10      0  "
      ]
     },
     "execution_count": 2,
     "metadata": {},
     "output_type": "execute_result"
    }
   ],
   "source": [
    "df=pd.read_csv('https://raw.githubusercontent.com/YBI-Foundation/Dataset/main/Bank%20Churn%20Modelling.csv')\n",
    "df.head()"
   ]
  },
  {
   "cell_type": "code",
   "execution_count": 3,
   "metadata": {
    "colab": {
     "base_uri": "https://localhost:8080/",
     "height": 0
    },
    "executionInfo": {
     "elapsed": 7,
     "status": "ok",
     "timestamp": 1710859462139,
     "user": {
      "displayName": "Lakshmana Vinay Maddala",
      "userId": "04696997615404432546"
     },
     "user_tz": -330
    },
    "id": "mFdxkh4fKlnD",
    "outputId": "c3d61eaa-0c15-4ac6-9bcb-906ec8e1a300"
   },
   "outputs": [
    {
     "name": "stdout",
     "output_type": "stream",
     "text": [
      "<class 'pandas.core.frame.DataFrame'>\n",
      "RangeIndex: 10000 entries, 0 to 9999\n",
      "Data columns (total 13 columns):\n",
      " #   Column            Non-Null Count  Dtype  \n",
      "---  ------            --------------  -----  \n",
      " 0   CustomerId        10000 non-null  int64  \n",
      " 1   Surname           10000 non-null  object \n",
      " 2   CreditScore       10000 non-null  int64  \n",
      " 3   Geography         10000 non-null  object \n",
      " 4   Gender            10000 non-null  object \n",
      " 5   Age               10000 non-null  int64  \n",
      " 6   Tenure            10000 non-null  int64  \n",
      " 7   Balance           10000 non-null  float64\n",
      " 8   Num Of Products   10000 non-null  int64  \n",
      " 9   Has Credit Card   10000 non-null  int64  \n",
      " 10  Is Active Member  10000 non-null  int64  \n",
      " 11  Estimated Salary  10000 non-null  float64\n",
      " 12  Churn             10000 non-null  int64  \n",
      "dtypes: float64(2), int64(8), object(3)\n",
      "memory usage: 1015.8+ KB\n"
     ]
    }
   ],
   "source": [
    "df.info()"
   ]
  },
  {
   "cell_type": "code",
   "execution_count": 4,
   "metadata": {
    "colab": {
     "base_uri": "https://localhost:8080/",
     "height": 0
    },
    "executionInfo": {
     "elapsed": 5,
     "status": "ok",
     "timestamp": 1710859495587,
     "user": {
      "displayName": "Lakshmana Vinay Maddala",
      "userId": "04696997615404432546"
     },
     "user_tz": -330
    },
    "id": "2P5f0ZfiK6H0",
    "outputId": "63030b79-8c9e-46ca-dca3-40abacdbe513"
   },
   "outputs": [
    {
     "data": {
      "text/plain": [
       "0"
      ]
     },
     "execution_count": 4,
     "metadata": {},
     "output_type": "execute_result"
    }
   ],
   "source": [
    "df.duplicated('CustomerId').sum()"
   ]
  },
  {
   "cell_type": "code",
   "execution_count": 5,
   "metadata": {
    "executionInfo": {
     "elapsed": 654,
     "status": "ok",
     "timestamp": 1710859525711,
     "user": {
      "displayName": "Lakshmana Vinay Maddala",
      "userId": "04696997615404432546"
     },
     "user_tz": -330
    },
    "id": "g8rRwD5qLCMe"
   },
   "outputs": [],
   "source": [
    "df=df.set_index('CustomerId')"
   ]
  },
  {
   "cell_type": "code",
   "execution_count": 6,
   "metadata": {
    "colab": {
     "base_uri": "https://localhost:8080/",
     "height": 0
    },
    "executionInfo": {
     "elapsed": 6,
     "status": "ok",
     "timestamp": 1710859540436,
     "user": {
      "displayName": "Lakshmana Vinay Maddala",
      "userId": "04696997615404432546"
     },
     "user_tz": -330
    },
    "id": "xFlmrWI3LJcp",
    "outputId": "e64106a6-7e97-42e3-a11b-fcfeff7c4716"
   },
   "outputs": [
    {
     "name": "stdout",
     "output_type": "stream",
     "text": [
      "<class 'pandas.core.frame.DataFrame'>\n",
      "Int64Index: 10000 entries, 15634602 to 15628319\n",
      "Data columns (total 12 columns):\n",
      " #   Column            Non-Null Count  Dtype  \n",
      "---  ------            --------------  -----  \n",
      " 0   Surname           10000 non-null  object \n",
      " 1   CreditScore       10000 non-null  int64  \n",
      " 2   Geography         10000 non-null  object \n",
      " 3   Gender            10000 non-null  object \n",
      " 4   Age               10000 non-null  int64  \n",
      " 5   Tenure            10000 non-null  int64  \n",
      " 6   Balance           10000 non-null  float64\n",
      " 7   Num Of Products   10000 non-null  int64  \n",
      " 8   Has Credit Card   10000 non-null  int64  \n",
      " 9   Is Active Member  10000 non-null  int64  \n",
      " 10  Estimated Salary  10000 non-null  float64\n",
      " 11  Churn             10000 non-null  int64  \n",
      "dtypes: float64(2), int64(7), object(3)\n",
      "memory usage: 1015.6+ KB\n"
     ]
    }
   ],
   "source": [
    "df.info()"
   ]
  },
  {
   "cell_type": "code",
   "execution_count": 7,
   "metadata": {
    "colab": {
     "base_uri": "https://localhost:8080/",
     "height": 771
    },
    "executionInfo": {
     "elapsed": 10,
     "status": "ok",
     "timestamp": 1710859581202,
     "user": {
      "displayName": "Lakshmana Vinay Maddala",
      "userId": "04696997615404432546"
     },
     "user_tz": -330
    },
    "id": "MUiTFQprLNC7",
    "outputId": "4abf563e-26ab-44ac-f20a-dfd8cd67e006"
   },
   "outputs": [
    {
     "data": {
      "text/html": [
       "<div>\n",
       "<style scoped>\n",
       "    .dataframe tbody tr th:only-of-type {\n",
       "        vertical-align: middle;\n",
       "    }\n",
       "\n",
       "    .dataframe tbody tr th {\n",
       "        vertical-align: top;\n",
       "    }\n",
       "\n",
       "    .dataframe thead th {\n",
       "        text-align: right;\n",
       "    }\n",
       "</style>\n",
       "<table border=\"1\" class=\"dataframe\">\n",
       "  <thead>\n",
       "    <tr style=\"text-align: right;\">\n",
       "      <th></th>\n",
       "      <th>CreditScore</th>\n",
       "      <th>Age</th>\n",
       "      <th>Tenure</th>\n",
       "      <th>Balance</th>\n",
       "      <th>Num Of Products</th>\n",
       "      <th>Has Credit Card</th>\n",
       "      <th>Is Active Member</th>\n",
       "      <th>Estimated Salary</th>\n",
       "      <th>Churn</th>\n",
       "    </tr>\n",
       "  </thead>\n",
       "  <tbody>\n",
       "    <tr>\n",
       "      <th>count</th>\n",
       "      <td>10000.000000</td>\n",
       "      <td>10000.000000</td>\n",
       "      <td>10000.000000</td>\n",
       "      <td>10000.000000</td>\n",
       "      <td>10000.000000</td>\n",
       "      <td>10000.00000</td>\n",
       "      <td>10000.000000</td>\n",
       "      <td>10000.000000</td>\n",
       "      <td>10000.000000</td>\n",
       "    </tr>\n",
       "    <tr>\n",
       "      <th>mean</th>\n",
       "      <td>650.528800</td>\n",
       "      <td>38.921800</td>\n",
       "      <td>5.012800</td>\n",
       "      <td>76485.889288</td>\n",
       "      <td>1.530200</td>\n",
       "      <td>0.70550</td>\n",
       "      <td>0.515100</td>\n",
       "      <td>100090.239881</td>\n",
       "      <td>0.203700</td>\n",
       "    </tr>\n",
       "    <tr>\n",
       "      <th>std</th>\n",
       "      <td>96.653299</td>\n",
       "      <td>10.487806</td>\n",
       "      <td>2.892174</td>\n",
       "      <td>62397.405202</td>\n",
       "      <td>0.581654</td>\n",
       "      <td>0.45584</td>\n",
       "      <td>0.499797</td>\n",
       "      <td>57510.492818</td>\n",
       "      <td>0.402769</td>\n",
       "    </tr>\n",
       "    <tr>\n",
       "      <th>min</th>\n",
       "      <td>350.000000</td>\n",
       "      <td>18.000000</td>\n",
       "      <td>0.000000</td>\n",
       "      <td>0.000000</td>\n",
       "      <td>1.000000</td>\n",
       "      <td>0.00000</td>\n",
       "      <td>0.000000</td>\n",
       "      <td>11.580000</td>\n",
       "      <td>0.000000</td>\n",
       "    </tr>\n",
       "    <tr>\n",
       "      <th>25%</th>\n",
       "      <td>584.000000</td>\n",
       "      <td>32.000000</td>\n",
       "      <td>3.000000</td>\n",
       "      <td>0.000000</td>\n",
       "      <td>1.000000</td>\n",
       "      <td>0.00000</td>\n",
       "      <td>0.000000</td>\n",
       "      <td>51002.110000</td>\n",
       "      <td>0.000000</td>\n",
       "    </tr>\n",
       "    <tr>\n",
       "      <th>50%</th>\n",
       "      <td>652.000000</td>\n",
       "      <td>37.000000</td>\n",
       "      <td>5.000000</td>\n",
       "      <td>97198.540000</td>\n",
       "      <td>1.000000</td>\n",
       "      <td>1.00000</td>\n",
       "      <td>1.000000</td>\n",
       "      <td>100193.915000</td>\n",
       "      <td>0.000000</td>\n",
       "    </tr>\n",
       "    <tr>\n",
       "      <th>75%</th>\n",
       "      <td>718.000000</td>\n",
       "      <td>44.000000</td>\n",
       "      <td>7.000000</td>\n",
       "      <td>127644.240000</td>\n",
       "      <td>2.000000</td>\n",
       "      <td>1.00000</td>\n",
       "      <td>1.000000</td>\n",
       "      <td>149388.247500</td>\n",
       "      <td>0.000000</td>\n",
       "    </tr>\n",
       "    <tr>\n",
       "      <th>max</th>\n",
       "      <td>850.000000</td>\n",
       "      <td>92.000000</td>\n",
       "      <td>10.000000</td>\n",
       "      <td>250898.090000</td>\n",
       "      <td>4.000000</td>\n",
       "      <td>1.00000</td>\n",
       "      <td>1.000000</td>\n",
       "      <td>199992.480000</td>\n",
       "      <td>1.000000</td>\n",
       "    </tr>\n",
       "  </tbody>\n",
       "</table>\n",
       "</div>"
      ],
      "text/plain": [
       "        CreditScore           Age        Tenure        Balance  \\\n",
       "count  10000.000000  10000.000000  10000.000000   10000.000000   \n",
       "mean     650.528800     38.921800      5.012800   76485.889288   \n",
       "std       96.653299     10.487806      2.892174   62397.405202   \n",
       "min      350.000000     18.000000      0.000000       0.000000   \n",
       "25%      584.000000     32.000000      3.000000       0.000000   \n",
       "50%      652.000000     37.000000      5.000000   97198.540000   \n",
       "75%      718.000000     44.000000      7.000000  127644.240000   \n",
       "max      850.000000     92.000000     10.000000  250898.090000   \n",
       "\n",
       "       Num Of Products  Has Credit Card  Is Active Member  Estimated Salary  \\\n",
       "count     10000.000000      10000.00000      10000.000000      10000.000000   \n",
       "mean          1.530200          0.70550          0.515100     100090.239881   \n",
       "std           0.581654          0.45584          0.499797      57510.492818   \n",
       "min           1.000000          0.00000          0.000000         11.580000   \n",
       "25%           1.000000          0.00000          0.000000      51002.110000   \n",
       "50%           1.000000          1.00000          1.000000     100193.915000   \n",
       "75%           2.000000          1.00000          1.000000     149388.247500   \n",
       "max           4.000000          1.00000          1.000000     199992.480000   \n",
       "\n",
       "              Churn  \n",
       "count  10000.000000  \n",
       "mean       0.203700  \n",
       "std        0.402769  \n",
       "min        0.000000  \n",
       "25%        0.000000  \n",
       "50%        0.000000  \n",
       "75%        0.000000  \n",
       "max        1.000000  "
      ]
     },
     "execution_count": 7,
     "metadata": {},
     "output_type": "execute_result"
    }
   ],
   "source": [
    "df.describe()"
   ]
  },
  {
   "cell_type": "code",
   "execution_count": 8,
   "metadata": {
    "colab": {
     "base_uri": "https://localhost:8080/",
     "height": 563
    },
    "executionInfo": {
     "elapsed": 11,
     "status": "ok",
     "timestamp": 1710859634500,
     "user": {
      "displayName": "Lakshmana Vinay Maddala",
      "userId": "04696997615404432546"
     },
     "user_tz": -330
    },
    "id": "yfRF22yNLV_h",
    "outputId": "6833c5ea-9702-4aa4-ab21-d60f4f18dd3e"
   },
   "outputs": [
    {
     "data": {
      "text/html": [
       "<div>\n",
       "<style scoped>\n",
       "    .dataframe tbody tr th:only-of-type {\n",
       "        vertical-align: middle;\n",
       "    }\n",
       "\n",
       "    .dataframe tbody tr th {\n",
       "        vertical-align: top;\n",
       "    }\n",
       "\n",
       "    .dataframe thead th {\n",
       "        text-align: right;\n",
       "    }\n",
       "</style>\n",
       "<table border=\"1\" class=\"dataframe\">\n",
       "  <thead>\n",
       "    <tr style=\"text-align: right;\">\n",
       "      <th></th>\n",
       "      <th>Surname</th>\n",
       "      <th>Geography</th>\n",
       "      <th>Gender</th>\n",
       "    </tr>\n",
       "  </thead>\n",
       "  <tbody>\n",
       "    <tr>\n",
       "      <th>count</th>\n",
       "      <td>10000</td>\n",
       "      <td>10000</td>\n",
       "      <td>10000</td>\n",
       "    </tr>\n",
       "    <tr>\n",
       "      <th>unique</th>\n",
       "      <td>2932</td>\n",
       "      <td>3</td>\n",
       "      <td>2</td>\n",
       "    </tr>\n",
       "    <tr>\n",
       "      <th>top</th>\n",
       "      <td>Smith</td>\n",
       "      <td>France</td>\n",
       "      <td>Male</td>\n",
       "    </tr>\n",
       "    <tr>\n",
       "      <th>freq</th>\n",
       "      <td>32</td>\n",
       "      <td>5014</td>\n",
       "      <td>5457</td>\n",
       "    </tr>\n",
       "  </tbody>\n",
       "</table>\n",
       "</div>"
      ],
      "text/plain": [
       "       Surname Geography Gender\n",
       "count    10000     10000  10000\n",
       "unique    2932         3      2\n",
       "top      Smith    France   Male\n",
       "freq        32      5014   5457"
      ]
     },
     "execution_count": 8,
     "metadata": {},
     "output_type": "execute_result"
    }
   ],
   "source": [
    "df.describe(include='object')"
   ]
  },
  {
   "cell_type": "code",
   "execution_count": 9,
   "metadata": {
    "colab": {
     "base_uri": "https://localhost:8080/",
     "height": 0
    },
    "executionInfo": {
     "elapsed": 8,
     "status": "ok",
     "timestamp": 1710859718387,
     "user": {
      "displayName": "Lakshmana Vinay Maddala",
      "userId": "04696997615404432546"
     },
     "user_tz": -330
    },
    "id": "QWJ23afMLkIA",
    "outputId": "765365a6-23dd-45f3-c832-4ab91e2da66b"
   },
   "outputs": [
    {
     "data": {
      "text/plain": [
       "Surname             0\n",
       "CreditScore         0\n",
       "Geography           0\n",
       "Gender              0\n",
       "Age                 0\n",
       "Tenure              0\n",
       "Balance             0\n",
       "Num Of Products     0\n",
       "Has Credit Card     0\n",
       "Is Active Member    0\n",
       "Estimated Salary    0\n",
       "Churn               0\n",
       "dtype: int64"
      ]
     },
     "execution_count": 9,
     "metadata": {},
     "output_type": "execute_result"
    }
   ],
   "source": [
    "df.isnull().sum()"
   ]
  },
  {
   "cell_type": "markdown",
   "metadata": {
    "id": "0KTKV6UJL6cO"
   },
   "source": [
    "***Data Preprocessing: Encoding***"
   ]
  },
  {
   "cell_type": "code",
   "execution_count": 10,
   "metadata": {
    "colab": {
     "base_uri": "https://localhost:8080/",
     "height": 0
    },
    "executionInfo": {
     "elapsed": 4,
     "status": "ok",
     "timestamp": 1710859773323,
     "user": {
      "displayName": "Lakshmana Vinay Maddala",
      "userId": "04696997615404432546"
     },
     "user_tz": -330
    },
    "id": "igidVQMEL-sr",
    "outputId": "6d2d46c8-e682-4761-e75c-a0d1b4f727e9"
   },
   "outputs": [
    {
     "data": {
      "text/plain": [
       "France     5014\n",
       "Germany    2509\n",
       "Spain      2477\n",
       "Name: Geography, dtype: int64"
      ]
     },
     "execution_count": 10,
     "metadata": {},
     "output_type": "execute_result"
    }
   ],
   "source": [
    "df['Geography'].value_counts()"
   ]
  },
  {
   "cell_type": "code",
   "execution_count": 11,
   "metadata": {
    "executionInfo": {
     "elapsed": 2,
     "status": "ok",
     "timestamp": 1710859873086,
     "user": {
      "displayName": "Lakshmana Vinay Maddala",
      "userId": "04696997615404432546"
     },
     "user_tz": -330
    },
    "id": "fzCiANVEMGCJ"
   },
   "outputs": [],
   "source": [
    "df.replace({'Geography':{'France':2,'Germany':1,'Spain':0}},inplace=True)"
   ]
  },
  {
   "cell_type": "code",
   "execution_count": 12,
   "metadata": {
    "colab": {
     "base_uri": "https://localhost:8080/",
     "height": 0
    },
    "executionInfo": {
     "elapsed": 5,
     "status": "ok",
     "timestamp": 1710859893359,
     "user": {
      "displayName": "Lakshmana Vinay Maddala",
      "userId": "04696997615404432546"
     },
     "user_tz": -330
    },
    "id": "iFZNnM3LMeX2",
    "outputId": "859f304b-f327-43e3-d143-10ff6e86fd25"
   },
   "outputs": [
    {
     "data": {
      "text/plain": [
       "Male      5457\n",
       "Female    4543\n",
       "Name: Gender, dtype: int64"
      ]
     },
     "execution_count": 12,
     "metadata": {},
     "output_type": "execute_result"
    }
   ],
   "source": [
    "df['Gender'].value_counts()"
   ]
  },
  {
   "cell_type": "code",
   "execution_count": 13,
   "metadata": {
    "executionInfo": {
     "elapsed": 3,
     "status": "ok",
     "timestamp": 1710859923840,
     "user": {
      "displayName": "Lakshmana Vinay Maddala",
      "userId": "04696997615404432546"
     },
     "user_tz": -330
    },
    "id": "a9yQypRgMjdm"
   },
   "outputs": [],
   "source": [
    "df.replace({'Gender':{'Male':0,'Female':1}},inplace=True)"
   ]
  },
  {
   "cell_type": "code",
   "execution_count": 14,
   "metadata": {
    "colab": {
     "base_uri": "https://localhost:8080/",
     "height": 0
    },
    "executionInfo": {
     "elapsed": 4,
     "status": "ok",
     "timestamp": 1710859958834,
     "user": {
      "displayName": "Lakshmana Vinay Maddala",
      "userId": "04696997615404432546"
     },
     "user_tz": -330
    },
    "id": "yJMf7EC6MqvU",
    "outputId": "c612bf78-dd87-48eb-8540-75778e3ca6b9"
   },
   "outputs": [
    {
     "data": {
      "text/plain": [
       "1    5084\n",
       "2    4590\n",
       "3     266\n",
       "4      60\n",
       "Name: Num Of Products, dtype: int64"
      ]
     },
     "execution_count": 14,
     "metadata": {},
     "output_type": "execute_result"
    }
   ],
   "source": [
    "df['Num Of Products'].value_counts()"
   ]
  },
  {
   "cell_type": "code",
   "execution_count": 15,
   "metadata": {
    "executionInfo": {
     "elapsed": 6,
     "status": "ok",
     "timestamp": 1710860004840,
     "user": {
      "displayName": "Lakshmana Vinay Maddala",
      "userId": "04696997615404432546"
     },
     "user_tz": -330
    },
    "id": "kFVz-bQAMzbG"
   },
   "outputs": [],
   "source": [
    "df.replace({'Num Of Products':{1:0,2:1,3:1,4:1}},inplace=True)"
   ]
  },
  {
   "cell_type": "code",
   "execution_count": 16,
   "metadata": {
    "colab": {
     "base_uri": "https://localhost:8080/",
     "height": 0
    },
    "executionInfo": {
     "elapsed": 4,
     "status": "ok",
     "timestamp": 1710860078793,
     "user": {
      "displayName": "Lakshmana Vinay Maddala",
      "userId": "04696997615404432546"
     },
     "user_tz": -330
    },
    "id": "QEXK0A9HM-h4",
    "outputId": "e9c7fd70-2788-4bf3-a570-6f060a10ede0"
   },
   "outputs": [
    {
     "data": {
      "text/plain": [
       "1    7055\n",
       "0    2945\n",
       "Name: Has Credit Card, dtype: int64"
      ]
     },
     "execution_count": 16,
     "metadata": {},
     "output_type": "execute_result"
    }
   ],
   "source": [
    "df['Has Credit Card'].value_counts()"
   ]
  },
  {
   "cell_type": "code",
   "execution_count": 17,
   "metadata": {
    "colab": {
     "base_uri": "https://localhost:8080/",
     "height": 0
    },
    "executionInfo": {
     "elapsed": 7,
     "status": "ok",
     "timestamp": 1710860071932,
     "user": {
      "displayName": "Lakshmana Vinay Maddala",
      "userId": "04696997615404432546"
     },
     "user_tz": -330
    },
    "id": "p3sU1JD8NH9j",
    "outputId": "c1a6b3db-670d-4d97-835b-3ae0ce328b22"
   },
   "outputs": [
    {
     "data": {
      "text/plain": [
       "1    5151\n",
       "0    4849\n",
       "Name: Is Active Member, dtype: int64"
      ]
     },
     "execution_count": 17,
     "metadata": {},
     "output_type": "execute_result"
    }
   ],
   "source": [
    "df['Is Active Member'].value_counts()"
   ]
  },
  {
   "cell_type": "code",
   "execution_count": 18,
   "metadata": {
    "colab": {
     "base_uri": "https://localhost:8080/",
     "height": 0
    },
    "executionInfo": {
     "elapsed": 4,
     "status": "ok",
     "timestamp": 1710860148265,
     "user": {
      "displayName": "Lakshmana Vinay Maddala",
      "userId": "04696997615404432546"
     },
     "user_tz": -330
    },
    "id": "vNqMGLa2NO-7",
    "outputId": "b4271a17-89a7-4021-9164-6683d7582144"
   },
   "outputs": [
    {
     "data": {
      "text/plain": [
       "0    3117\n",
       "1     500\n",
       "Name: Churn, dtype: int64"
      ]
     },
     "execution_count": 18,
     "metadata": {},
     "output_type": "execute_result"
    }
   ],
   "source": [
    "df.loc[(df['Balance']==0),'Churn'].value_counts()"
   ]
  },
  {
   "cell_type": "code",
   "execution_count": 19,
   "metadata": {
    "executionInfo": {
     "elapsed": 2,
     "status": "ok",
     "timestamp": 1710860181937,
     "user": {
      "displayName": "Lakshmana Vinay Maddala",
      "userId": "04696997615404432546"
     },
     "user_tz": -330
    },
    "id": "xZr1wswyNhok"
   },
   "outputs": [],
   "source": [
    "df['Zero Balance']=np.where(df['Balance']>0,1,0)"
   ]
  },
  {
   "cell_type": "code",
   "execution_count": 20,
   "metadata": {
    "colab": {
     "base_uri": "https://localhost:8080/",
     "height": 447
    },
    "executionInfo": {
     "elapsed": 953,
     "status": "ok",
     "timestamp": 1710860196641,
     "user": {
      "displayName": "Lakshmana Vinay Maddala",
      "userId": "04696997615404432546"
     },
     "user_tz": -330
    },
    "id": "qdS_rmnSNp0U",
    "outputId": "9699665a-a4ef-4555-dd56-4fc31fe083d8"
   },
   "outputs": [
    {
     "data": {
      "text/plain": [
       "<AxesSubplot:>"
      ]
     },
     "execution_count": 20,
     "metadata": {},
     "output_type": "execute_result"
    },
    {
     "data": {
      "image/png": "[encoded data removed]",
      "text/plain": [
       "<Figure size 640x480 with 1 Axes>"
      ]
     },
     "metadata": {},
     "output_type": "display_data"
    }
   ],
   "source": [
    "df['Zero Balance'].hist()"
   ]
  },
  {
   "cell_type": "code",
   "execution_count": 21,
   "metadata": {
    "colab": {
     "base_uri": "https://localhost:8080/",
     "height": 269
    },
    "executionInfo": {
     "elapsed": 13,
     "status": "ok",
     "timestamp": 1710860257989,
     "user": {
      "displayName": "Lakshmana Vinay Maddala",
      "userId": "04696997615404432546"
     },
     "user_tz": -330
    },
    "id": "Q95dMaD5NtDy",
    "outputId": "ee9d71ee-3dda-4da7-8924-b79bc6f9a684"
   },
   "outputs": [
    {
     "data": {
      "text/html": [
       "<div>\n",
       "<style scoped>\n",
       "    .dataframe tbody tr th:only-of-type {\n",
       "        vertical-align: middle;\n",
       "    }\n",
       "\n",
       "    .dataframe tbody tr th {\n",
       "        vertical-align: top;\n",
       "    }\n",
       "\n",
       "    .dataframe thead th {\n",
       "        text-align: right;\n",
       "    }\n",
       "</style>\n",
       "<table border=\"1\" class=\"dataframe\">\n",
       "  <thead>\n",
       "    <tr style=\"text-align: right;\">\n",
       "      <th></th>\n",
       "      <th></th>\n",
       "      <th>Surname</th>\n",
       "      <th>CreditScore</th>\n",
       "      <th>Gender</th>\n",
       "      <th>Age</th>\n",
       "      <th>Tenure</th>\n",
       "      <th>Balance</th>\n",
       "      <th>Num Of Products</th>\n",
       "      <th>Has Credit Card</th>\n",
       "      <th>Is Active Member</th>\n",
       "      <th>Estimated Salary</th>\n",
       "      <th>Zero Balance</th>\n",
       "    </tr>\n",
       "    <tr>\n",
       "      <th>Churn</th>\n",
       "      <th>Geography</th>\n",
       "      <th></th>\n",
       "      <th></th>\n",
       "      <th></th>\n",
       "      <th></th>\n",
       "      <th></th>\n",
       "      <th></th>\n",
       "      <th></th>\n",
       "      <th></th>\n",
       "      <th></th>\n",
       "      <th></th>\n",
       "      <th></th>\n",
       "    </tr>\n",
       "  </thead>\n",
       "  <tbody>\n",
       "    <tr>\n",
       "      <th rowspan=\"3\" valign=\"top\">0</th>\n",
       "      <th>0</th>\n",
       "      <td>2064</td>\n",
       "      <td>2064</td>\n",
       "      <td>2064</td>\n",
       "      <td>2064</td>\n",
       "      <td>2064</td>\n",
       "      <td>2064</td>\n",
       "      <td>2064</td>\n",
       "      <td>2064</td>\n",
       "      <td>2064</td>\n",
       "      <td>2064</td>\n",
       "      <td>2064</td>\n",
       "    </tr>\n",
       "    <tr>\n",
       "      <th>1</th>\n",
       "      <td>1695</td>\n",
       "      <td>1695</td>\n",
       "      <td>1695</td>\n",
       "      <td>1695</td>\n",
       "      <td>1695</td>\n",
       "      <td>1695</td>\n",
       "      <td>1695</td>\n",
       "      <td>1695</td>\n",
       "      <td>1695</td>\n",
       "      <td>1695</td>\n",
       "      <td>1695</td>\n",
       "    </tr>\n",
       "    <tr>\n",
       "      <th>2</th>\n",
       "      <td>4204</td>\n",
       "      <td>4204</td>\n",
       "      <td>4204</td>\n",
       "      <td>4204</td>\n",
       "      <td>4204</td>\n",
       "      <td>4204</td>\n",
       "      <td>4204</td>\n",
       "      <td>4204</td>\n",
       "      <td>4204</td>\n",
       "      <td>4204</td>\n",
       "      <td>4204</td>\n",
       "    </tr>\n",
       "    <tr>\n",
       "      <th rowspan=\"3\" valign=\"top\">1</th>\n",
       "      <th>0</th>\n",
       "      <td>413</td>\n",
       "      <td>413</td>\n",
       "      <td>413</td>\n",
       "      <td>413</td>\n",
       "      <td>413</td>\n",
       "      <td>413</td>\n",
       "      <td>413</td>\n",
       "      <td>413</td>\n",
       "      <td>413</td>\n",
       "      <td>413</td>\n",
       "      <td>413</td>\n",
       "    </tr>\n",
       "    <tr>\n",
       "      <th>1</th>\n",
       "      <td>814</td>\n",
       "      <td>814</td>\n",
       "      <td>814</td>\n",
       "      <td>814</td>\n",
       "      <td>814</td>\n",
       "      <td>814</td>\n",
       "      <td>814</td>\n",
       "      <td>814</td>\n",
       "      <td>814</td>\n",
       "      <td>814</td>\n",
       "      <td>814</td>\n",
       "    </tr>\n",
       "    <tr>\n",
       "      <th>2</th>\n",
       "      <td>810</td>\n",
       "      <td>810</td>\n",
       "      <td>810</td>\n",
       "      <td>810</td>\n",
       "      <td>810</td>\n",
       "      <td>810</td>\n",
       "      <td>810</td>\n",
       "      <td>810</td>\n",
       "      <td>810</td>\n",
       "      <td>810</td>\n",
       "      <td>810</td>\n",
       "    </tr>\n",
       "  </tbody>\n",
       "</table>\n",
       "</div>"
      ],
      "text/plain": [
       "                 Surname  CreditScore  Gender   Age  Tenure  Balance  \\\n",
       "Churn Geography                                                        \n",
       "0     0             2064         2064    2064  2064    2064     2064   \n",
       "      1             1695         1695    1695  1695    1695     1695   \n",
       "      2             4204         4204    4204  4204    4204     4204   \n",
       "1     0              413          413     413   413     413      413   \n",
       "      1              814          814     814   814     814      814   \n",
       "      2              810          810     810   810     810      810   \n",
       "\n",
       "                 Num Of Products  Has Credit Card  Is Active Member  \\\n",
       "Churn Geography                                                       \n",
       "0     0                     2064             2064              2064   \n",
       "      1                     1695             1695              1695   \n",
       "      2                     4204             4204              4204   \n",
       "1     0                      413              413               413   \n",
       "      1                      814              814               814   \n",
       "      2                      810              810               810   \n",
       "\n",
       "                 Estimated Salary  Zero Balance  \n",
       "Churn Geography                                  \n",
       "0     0                      2064          2064  \n",
       "      1                      1695          1695  \n",
       "      2                      4204          4204  \n",
       "1     0                       413           413  \n",
       "      1                       814           814  \n",
       "      2                       810           810  "
      ]
     },
     "execution_count": 21,
     "metadata": {},
     "output_type": "execute_result"
    }
   ],
   "source": [
    "df.groupby(['Churn','Geography']).count()"
   ]
  },
  {
   "cell_type": "markdown",
   "metadata": {
    "id": "x4vD0_S1OCcb"
   },
   "source": [
    "***Define Label and Features***"
   ]
  },
  {
   "cell_type": "code",
   "execution_count": 22,
   "metadata": {
    "colab": {
     "base_uri": "https://localhost:8080/",
     "height": 0
    },
    "executionInfo": {
     "elapsed": 6,
     "status": "ok",
     "timestamp": 1710860313335,
     "user": {
      "displayName": "Lakshmana Vinay Maddala",
      "userId": "04696997615404432546"
     },
     "user_tz": -330
    },
    "id": "WxEn0agGOH50",
    "outputId": "a7dd8050-e78a-4730-c6f4-0b37f123db3b"
   },
   "outputs": [
    {
     "data": {
      "text/plain": [
       "Index(['Surname', 'CreditScore', 'Geography', 'Gender', 'Age', 'Tenure',\n",
       "       'Balance', 'Num Of Products', 'Has Credit Card', 'Is Active Member',\n",
       "       'Estimated Salary', 'Churn', 'Zero Balance'],\n",
       "      dtype='object')"
      ]
     },
     "execution_count": 22,
     "metadata": {},
     "output_type": "execute_result"
    }
   ],
   "source": [
    "df.columns"
   ]
  },
  {
   "cell_type": "markdown",
   "metadata": {
    "id": "ivlMjvDQOann"
   },
   "source": [
    "***Define Target Variable (y) and Feature Variables (X)***"
   ]
  },
  {
   "cell_type": "code",
   "execution_count": 23,
   "metadata": {
    "executionInfo": {
     "elapsed": 3,
     "status": "ok",
     "timestamp": 1710860340321,
     "user": {
      "displayName": "Lakshmana Vinay Maddala",
      "userId": "04696997615404432546"
     },
     "user_tz": -330
    },
    "id": "yuxhvwU7OJnt"
   },
   "outputs": [],
   "source": [
    "x=df.drop(['Surname','Churn'],axis=1)"
   ]
  },
  {
   "cell_type": "code",
   "execution_count": 24,
   "metadata": {
    "executionInfo": {
     "elapsed": 3,
     "status": "ok",
     "timestamp": 1710860350695,
     "user": {
      "displayName": "Lakshmana Vinay Maddala",
      "userId": "04696997615404432546"
     },
     "user_tz": -330
    },
    "id": "_xtMNCK_OQUt"
   },
   "outputs": [],
   "source": [
    "y=df['Churn']"
   ]
  },
  {
   "cell_type": "code",
   "execution_count": 25,
   "metadata": {
    "colab": {
     "base_uri": "https://localhost:8080/",
     "height": 0
    },
    "executionInfo": {
     "elapsed": 7,
     "status": "ok",
     "timestamp": 1710860360589,
     "user": {
      "displayName": "Lakshmana Vinay Maddala",
      "userId": "04696997615404432546"
     },
     "user_tz": -330
    },
    "id": "FMo9YWVpOTG6",
    "outputId": "5f69229e-e309-4eca-a789-ebb696d5b770"
   },
   "outputs": [
    {
     "data": {
      "text/plain": [
       "((10000, 11), (10000,))"
      ]
     },
     "execution_count": 25,
     "metadata": {},
     "output_type": "execute_result"
    }
   ],
   "source": [
    "x.shape,y.shape"
   ]
  },
  {
   "cell_type": "code",
   "execution_count": 26,
   "metadata": {
    "colab": {
     "base_uri": "https://localhost:8080/",
     "height": 0
    },
    "executionInfo": {
     "elapsed": 5,
     "status": "ok",
     "timestamp": 1710860508030,
     "user": {
      "displayName": "Lakshmana Vinay Maddala",
      "userId": "04696997615404432546"
     },
     "user_tz": -330
    },
    "id": "l0PrJRTLOVOU",
    "outputId": "5b1bebb6-6d2c-45a7-ec4e-bf6c85a341dd"
   },
   "outputs": [
    {
     "data": {
      "text/plain": [
       "0    7963\n",
       "1    2037\n",
       "Name: Churn, dtype: int64"
      ]
     },
     "execution_count": 26,
     "metadata": {},
     "output_type": "execute_result"
    }
   ],
   "source": [
    "df['Churn'].value_counts()"
   ]
  },
  {
   "cell_type": "code",
   "execution_count": 27,
   "metadata": {
    "colab": {
     "base_uri": "https://localhost:8080/",
     "height": 466
    },
    "executionInfo": {
     "elapsed": 1022,
     "status": "ok",
     "timestamp": 1710860532139,
     "user": {
      "displayName": "Lakshmana Vinay Maddala",
      "userId": "04696997615404432546"
     },
     "user_tz": -330
    },
    "id": "mM2f1g-PO5Zf",
    "outputId": "3909162c-499a-43fe-db03-a69f8c94d56b"
   },
   "outputs": [
    {
     "data": {
      "text/plain": [
       "<AxesSubplot:xlabel='Churn', ylabel='count'>"
      ]
     },
     "execution_count": 27,
     "metadata": {},
     "output_type": "execute_result"
    },
    {
     "data": {
      "image/png": "[encoded data removed]",
      "text/plain": [
       "<Figure size 640x480 with 1 Axes>"
      ]
     },
     "metadata": {},
     "output_type": "display_data"
    }
   ],
   "source": [
    "sns.countplot(x='Churn',data=df)"
   ]
  },
  {
   "cell_type": "code",
   "execution_count": 31,
   "metadata": {},
   "outputs": [
    {
     "name": "stdout",
     "output_type": "stream",
     "text": [
      "Defaulting to user installation because normal site-packages is not writeable\n",
      "Requirement already satisfied: imblearn in c:\\users\\user\\appdata\\roaming\\python\\python39\\site-packages (0.0)\n",
      "Requirement already satisfied: imbalanced-learn in c:\\users\\user\\appdata\\roaming\\python\\python39\\site-packages (from imblearn) (0.12.0)\n",
      "Requirement already satisfied: threadpoolctl>=2.0.0 in c:\\programdata\\anaconda3\\lib\\site-packages (from imbalanced-learn->imblearn) (2.2.0)\n",
      "Requirement already satisfied: scikit-learn>=1.0.2 in c:\\programdata\\anaconda3\\lib\\site-packages (from imbalanced-learn->imblearn) (1.0.2)\n",
      "Requirement already satisfied: numpy>=1.17.3 in c:\\programdata\\anaconda3\\lib\\site-packages (from imbalanced-learn->imblearn) (1.21.5)\n",
      "Requirement already satisfied: scipy>=1.5.0 in c:\\programdata\\anaconda3\\lib\\site-packages (from imbalanced-learn->imblearn) (1.9.1)\n",
      "Requirement already satisfied: joblib>=1.1.1 in c:\\users\\user\\appdata\\roaming\\python\\python39\\site-packages (from imbalanced-learn->imblearn) (1.3.2)\n",
      "Note: you may need to restart the kernel to use updated packages.\n"
     ]
    },
    {
     "name": "stderr",
     "output_type": "stream",
     "text": [
      "\n",
      "[notice] A new release of pip is available: 23.0.1 -> 24.0\n",
      "[notice] To update, run: python.exe -m pip install --upgrade pip\n"
     ]
    }
   ],
   "source": [
    "pip install imblearn"
   ]
  },
  {
   "cell_type": "markdown",
   "metadata": {
    "id": "CwXxQ1GoPEC6"
   },
   "source": [
    "***Random Under Sampling***"
   ]
  },
  {
   "cell_type": "code",
   "execution_count": 30,
   "metadata": {
    "executionInfo": {
     "elapsed": 3,
     "status": "ok",
     "timestamp": 1710860602692,
     "user": {
      "displayName": "Lakshmana Vinay Maddala",
      "userId": "04696997615404432546"
     },
     "user_tz": -330
    },
    "id": "mKKilHdWPIU7"
   },
   "outputs": [],
   "source": [
    "from imblearn.under_sampling import RandomUnderSampler"
   ]
  },
  {
   "cell_type": "code",
   "execution_count": 32,
   "metadata": {
    "executionInfo": {
     "elapsed": 436,
     "status": "ok",
     "timestamp": 1710860626351,
     "user": {
      "displayName": "Lakshmana Vinay Maddala",
      "userId": "04696997615404432546"
     },
     "user_tz": -330
    },
    "id": "bryblKrxPQje"
   },
   "outputs": [],
   "source": [
    "rs=RandomUnderSampler(random_state=2529)"
   ]
  },
  {
   "cell_type": "code",
   "execution_count": 33,
   "metadata": {
    "executionInfo": {
     "elapsed": 2,
     "status": "ok",
     "timestamp": 1710860657311,
     "user": {
      "displayName": "Lakshmana Vinay Maddala",
      "userId": "04696997615404432546"
     },
     "user_tz": -330
    },
    "id": "540xRXiOPWP0"
   },
   "outputs": [],
   "source": [
    "x_rs,y_rs=rs.fit_resample(x,y)"
   ]
  },
  {
   "cell_type": "code",
   "execution_count": 34,
   "metadata": {
    "colab": {
     "base_uri": "https://localhost:8080/",
     "height": 0
    },
    "executionInfo": {
     "elapsed": 7,
     "status": "ok",
     "timestamp": 1710860678311,
     "user": {
      "displayName": "Lakshmana Vinay Maddala",
      "userId": "04696997615404432546"
     },
     "user_tz": -330
    },
    "id": "HlTJc7EfPd34",
    "outputId": "ba17803f-00e3-4f03-d6ab-32f8bc079443"
   },
   "outputs": [
    {
     "data": {
      "text/plain": [
       "((4074, 11), (4074,), (10000, 11), (10000,))"
      ]
     },
     "execution_count": 34,
     "metadata": {},
     "output_type": "execute_result"
    }
   ],
   "source": [
    "x_rs.shape,y_rs.shape,x.shape,y.shape"
   ]
  },
  {
   "cell_type": "code",
   "execution_count": 35,
   "metadata": {
    "colab": {
     "base_uri": "https://localhost:8080/",
     "height": 0
    },
    "executionInfo": {
     "elapsed": 5,
     "status": "ok",
     "timestamp": 1710860694542,
     "user": {
      "displayName": "Lakshmana Vinay Maddala",
      "userId": "04696997615404432546"
     },
     "user_tz": -330
    },
    "id": "Z1YJF_9TPi-d",
    "outputId": "7739a8d9-ca83-4b0a-ccf5-800a58ea919a"
   },
   "outputs": [
    {
     "data": {
      "text/plain": [
       "0    7963\n",
       "1    2037\n",
       "Name: Churn, dtype: int64"
      ]
     },
     "execution_count": 35,
     "metadata": {},
     "output_type": "execute_result"
    }
   ],
   "source": [
    "y.value_counts()"
   ]
  },
  {
   "cell_type": "code",
   "execution_count": 36,
   "metadata": {
    "colab": {
     "base_uri": "https://localhost:8080/",
     "height": 0
    },
    "executionInfo": {
     "elapsed": 4,
     "status": "ok",
     "timestamp": 1710860711224,
     "user": {
      "displayName": "Lakshmana Vinay Maddala",
      "userId": "04696997615404432546"
     },
     "user_tz": -330
    },
    "id": "X51cRaURPm73",
    "outputId": "bfcb1cc2-f44b-45d3-8ecd-434d916d0cd8"
   },
   "outputs": [
    {
     "data": {
      "text/plain": [
       "0    2037\n",
       "1    2037\n",
       "Name: Churn, dtype: int64"
      ]
     },
     "execution_count": 36,
     "metadata": {},
     "output_type": "execute_result"
    }
   ],
   "source": [
    "y_rs.value_counts()"
   ]
  },
  {
   "cell_type": "code",
   "execution_count": 37,
   "metadata": {
    "colab": {
     "base_uri": "https://localhost:8080/",
     "height": 447
    },
    "executionInfo": {
     "elapsed": 761,
     "status": "ok",
     "timestamp": 1710860728487,
     "user": {
      "displayName": "Lakshmana Vinay Maddala",
      "userId": "04696997615404432546"
     },
     "user_tz": -330
    },
    "id": "21ffocCxPrAF",
    "outputId": "f4dcba05-c331-494c-ba44-2ed6b298614a"
   },
   "outputs": [
    {
     "data": {
      "text/plain": [
       "<AxesSubplot:ylabel='Frequency'>"
      ]
     },
     "execution_count": 37,
     "metadata": {},
     "output_type": "execute_result"
    },
    {
     "data": {
      "image/png": "[encoded data removed]",
      "text/plain": [
       "<Figure size 640x480 with 1 Axes>"
      ]
     },
     "metadata": {},
     "output_type": "display_data"
    }
   ],
   "source": [
    "y_rs.plot(kind='hist')"
   ]
  },
  {
   "cell_type": "code",
   "execution_count": 38,
   "metadata": {
    "executionInfo": {
     "elapsed": 3,
     "status": "ok",
     "timestamp": 1710861063558,
     "user": {
      "displayName": "Lakshmana Vinay Maddala",
      "userId": "04696997615404432546"
     },
     "user_tz": -330
    },
    "id": "aHuAiJqEQ5r9"
   },
   "outputs": [],
   "source": [
    "from imblearn.over_sampling import RandomOverSampler"
   ]
  },
  {
   "cell_type": "code",
   "execution_count": 39,
   "metadata": {
    "executionInfo": {
     "elapsed": 2,
     "status": "ok",
     "timestamp": 1710861087943,
     "user": {
      "displayName": "Lakshmana Vinay Maddala",
      "userId": "04696997615404432546"
     },
     "user_tz": -330
    },
    "id": "ZbR1-514RCQG"
   },
   "outputs": [],
   "source": [
    "ro=RandomOverSampler(random_state=2529)"
   ]
  },
  {
   "cell_type": "code",
   "execution_count": 40,
   "metadata": {
    "executionInfo": {
     "elapsed": 415,
     "status": "ok",
     "timestamp": 1710861113219,
     "user": {
      "displayName": "Lakshmana Vinay Maddala",
      "userId": "04696997615404432546"
     },
     "user_tz": -330
    },
    "id": "dmEQrGTURCmT"
   },
   "outputs": [],
   "source": [
    "x_ro,y_ro=ro.fit_resample(x,y)"
   ]
  },
  {
   "cell_type": "code",
   "execution_count": 41,
   "metadata": {
    "colab": {
     "base_uri": "https://localhost:8080/",
     "height": 0
    },
    "executionInfo": {
     "elapsed": 7,
     "status": "ok",
     "timestamp": 1710861132257,
     "user": {
      "displayName": "Lakshmana Vinay Maddala",
      "userId": "04696997615404432546"
     },
     "user_tz": -330
    },
    "id": "tJFcjiuIRC3l",
    "outputId": "fafe34e4-854b-42b3-9f5a-a5d986e2de62"
   },
   "outputs": [
    {
     "data": {
      "text/plain": [
       "((15926, 11), (15926,), (10000, 11), (10000,))"
      ]
     },
     "execution_count": 41,
     "metadata": {},
     "output_type": "execute_result"
    }
   ],
   "source": [
    "x_ro.shape,y_ro.shape,x.shape,y.shape"
   ]
  },
  {
   "cell_type": "code",
   "execution_count": 42,
   "metadata": {
    "colab": {
     "base_uri": "https://localhost:8080/",
     "height": 0
    },
    "executionInfo": {
     "elapsed": 6,
     "status": "ok",
     "timestamp": 1710861161319,
     "user": {
      "displayName": "Lakshmana Vinay Maddala",
      "userId": "04696997615404432546"
     },
     "user_tz": -330
    },
    "id": "7Abr3iaYRUbE",
    "outputId": "97bfb98c-1c90-4183-fd57-1cf446330613"
   },
   "outputs": [
    {
     "data": {
      "text/plain": [
       "0    7963\n",
       "1    2037\n",
       "Name: Churn, dtype: int64"
      ]
     },
     "execution_count": 42,
     "metadata": {},
     "output_type": "execute_result"
    }
   ],
   "source": [
    "y.value_counts()"
   ]
  },
  {
   "cell_type": "code",
   "execution_count": 43,
   "metadata": {
    "colab": {
     "base_uri": "https://localhost:8080/",
     "height": 0
    },
    "executionInfo": {
     "elapsed": 5,
     "status": "ok",
     "timestamp": 1710861192645,
     "user": {
      "displayName": "Lakshmana Vinay Maddala",
      "userId": "04696997615404432546"
     },
     "user_tz": -330
    },
    "id": "ikskZVu5ReHn",
    "outputId": "3d74e0a6-02ac-49ed-c848-6464e84404c9"
   },
   "outputs": [
    {
     "data": {
      "text/plain": [
       "1    7963\n",
       "0    7963\n",
       "Name: Churn, dtype: int64"
      ]
     },
     "execution_count": 43,
     "metadata": {},
     "output_type": "execute_result"
    }
   ],
   "source": [
    "y_ro.value_counts()"
   ]
  },
  {
   "cell_type": "code",
   "execution_count": 44,
   "metadata": {
    "colab": {
     "base_uri": "https://localhost:8080/",
     "height": 447
    },
    "executionInfo": {
     "elapsed": 709,
     "status": "ok",
     "timestamp": 1710861221220,
     "user": {
      "displayName": "Lakshmana Vinay Maddala",
      "userId": "04696997615404432546"
     },
     "user_tz": -330
    },
    "id": "GP7T4DI-RkcW",
    "outputId": "b75abd13-cdef-469c-a4eb-b4e921e1a8ad"
   },
   "outputs": [
    {
     "data": {
      "text/plain": [
       "<AxesSubplot:ylabel='Frequency'>"
      ]
     },
     "execution_count": 44,
     "metadata": {},
     "output_type": "execute_result"
    },
    {
     "data": {
      "image/png": "[encoded data removed]",
      "text/plain": [
       "<Figure size 640x480 with 1 Axes>"
      ]
     },
     "metadata": {},
     "output_type": "display_data"
    }
   ],
   "source": [
    "y_ro.plot(kind='hist', color='green')"
   ]
  },
  {
   "cell_type": "markdown",
   "metadata": {
    "id": "2BVBp3HsP0iB"
   },
   "source": [
    "***Train Test Split***"
   ]
  },
  {
   "cell_type": "code",
   "execution_count": 45,
   "metadata": {
    "executionInfo": {
     "elapsed": 4,
     "status": "ok",
     "timestamp": 1710860788089,
     "user": {
      "displayName": "Lakshmana Vinay Maddala",
      "userId": "04696997615404432546"
     },
     "user_tz": -330
    },
    "id": "aFJcE61SP4Wr"
   },
   "outputs": [],
   "source": [
    "from sklearn.model_selection import train_test_split"
   ]
  },
  {
   "cell_type": "markdown",
   "metadata": {
    "id": "s_Hei7GDQZzB"
   },
   "source": [
    "***Split Original Data***"
   ]
  },
  {
   "cell_type": "code",
   "execution_count": 46,
   "metadata": {
    "executionInfo": {
     "elapsed": 410,
     "status": "ok",
     "timestamp": 1710860833279,
     "user": {
      "displayName": "Lakshmana Vinay Maddala",
      "userId": "04696997615404432546"
     },
     "user_tz": -330
    },
    "id": "qyNAtqaYP9ng"
   },
   "outputs": [],
   "source": [
    "x_train,x_test,y_train,y_test=train_test_split(x,y,test_size=0.3,random_state=25)"
   ]
  },
  {
   "cell_type": "markdown",
   "metadata": {
    "id": "a1nY4D0PQdmQ"
   },
   "source": [
    "***Split Random Under Sample Data***"
   ]
  },
  {
   "cell_type": "code",
   "execution_count": 47,
   "metadata": {
    "executionInfo": {
     "elapsed": 3,
     "status": "ok",
     "timestamp": 1710860884594,
     "user": {
      "displayName": "Lakshmana Vinay Maddala",
      "userId": "04696997615404432546"
     },
     "user_tz": -330
    },
    "id": "4A0vuDSlQIzW"
   },
   "outputs": [],
   "source": [
    "x_train_rs,x_test_rs,y_train_rs,y_test_rs=train_test_split(x_rs,y_rs,test_size=0.3,random_state=25)"
   ]
  },
  {
   "cell_type": "markdown",
   "metadata": {
    "id": "ahtAcAvJQijw"
   },
   "source": [
    "***Split Random Over Sample Data***"
   ]
  },
  {
   "cell_type": "code",
   "execution_count": 48,
   "metadata": {
    "executionInfo": {
     "elapsed": 540,
     "status": "ok",
     "timestamp": 1710861245358,
     "user": {
      "displayName": "Lakshmana Vinay Maddala",
      "userId": "04696997615404432546"
     },
     "user_tz": -330
    },
    "id": "D-xJkMPfQVOG"
   },
   "outputs": [],
   "source": [
    "x_train_ro,x_test_ro,y_train_ro,y_test_ro=train_test_split(x_ro,y_ro,test_size=0.3,random_state=25)"
   ]
  },
  {
   "cell_type": "markdown",
   "metadata": {
    "id": "tsaRlqRKRzvZ"
   },
   "source": [
    "***Standardize Original Data***"
   ]
  },
  {
   "cell_type": "code",
   "execution_count": 49,
   "metadata": {
    "executionInfo": {
     "elapsed": 2,
     "status": "ok",
     "timestamp": 1710861382726,
     "user": {
      "displayName": "Lakshmana Vinay Maddala",
      "userId": "04696997615404432546"
     },
     "user_tz": -330
    },
    "id": "yCYuCV2iR95y"
   },
   "outputs": [],
   "source": [
    "from sklearn.preprocessing import StandardScaler"
   ]
  },
  {
   "cell_type": "code",
   "execution_count": 50,
   "metadata": {
    "executionInfo": {
     "elapsed": 2,
     "status": "ok",
     "timestamp": 1710861386692,
     "user": {
      "displayName": "Lakshmana Vinay Maddala",
      "userId": "04696997615404432546"
     },
     "user_tz": -330
    },
    "id": "VDuWkIXISO_G"
   },
   "outputs": [],
   "source": [
    "sc=StandardScaler()"
   ]
  },
  {
   "cell_type": "markdown",
   "metadata": {
    "id": "Sf8CL8hlSU_m"
   },
   "source": [
    "***Standardize Original Data***"
   ]
  },
  {
   "cell_type": "code",
   "execution_count": 51,
   "metadata": {
    "executionInfo": {
     "elapsed": 527,
     "status": "ok",
     "timestamp": 1710861529706,
     "user": {
      "displayName": "Lakshmana Vinay Maddala",
      "userId": "04696997615404432546"
     },
     "user_tz": -330
    },
    "id": "oKUeana7SZiJ"
   },
   "outputs": [],
   "source": [
    "x_train[['CreditScore','Age','Tenure','Balance','Estimated Salary']]=sc.fit_transform(x_train[['CreditScore','Age','Tenure','Balance','Estimated Salary']])"
   ]
  },
  {
   "cell_type": "code",
   "execution_count": 52,
   "metadata": {
    "executionInfo": {
     "elapsed": 404,
     "status": "ok",
     "timestamp": 1710861549836,
     "user": {
      "displayName": "Lakshmana Vinay Maddala",
      "userId": "04696997615404432546"
     },
     "user_tz": -330
    },
    "id": "tGi1XsNUSyxJ"
   },
   "outputs": [],
   "source": [
    "x_test[['CreditScore','Age','Tenure','Balance','Estimated Salary']]=sc.fit_transform(x_test[['CreditScore','Age','Tenure','Balance','Estimated Salary']])"
   ]
  },
  {
   "cell_type": "markdown",
   "metadata": {
    "id": "WP52fRzJS5fr"
   },
   "source": [
    "***Standardize Random Under Sample Data***"
   ]
  },
  {
   "cell_type": "code",
   "execution_count": 53,
   "metadata": {
    "executionInfo": {
     "elapsed": 422,
     "status": "ok",
     "timestamp": 1710861625093,
     "user": {
      "displayName": "Lakshmana Vinay Maddala",
      "userId": "04696997615404432546"
     },
     "user_tz": -330
    },
    "id": "NVavS4sCS_0g"
   },
   "outputs": [],
   "source": [
    "x_train_rs[['CreditScore','Age','Tenure','Balance','Estimated Salary']]=sc.fit_transform(x_train_rs[['CreditScore','Age','Tenure','Balance','Estimated Salary']])"
   ]
  },
  {
   "cell_type": "code",
   "execution_count": 54,
   "metadata": {
    "executionInfo": {
     "elapsed": 2,
     "status": "ok",
     "timestamp": 1710861645839,
     "user": {
      "displayName": "Lakshmana Vinay Maddala",
      "userId": "04696997615404432546"
     },
     "user_tz": -330
    },
    "id": "rjSInxFKTJ-m"
   },
   "outputs": [],
   "source": [
    "x_test_rs[['CreditScore','Age','Tenure','Balance','Estimated Salary']]=sc.fit_transform(x_test_rs[['CreditScore','Age','Tenure','Balance','Estimated Salary']])"
   ]
  },
  {
   "cell_type": "markdown",
   "metadata": {
    "id": "8QpSj3MeTeE4"
   },
   "source": [
    "***Standardize Random Over Sample Data***"
   ]
  },
  {
   "cell_type": "code",
   "execution_count": 55,
   "metadata": {
    "executionInfo": {
     "elapsed": 443,
     "status": "ok",
     "timestamp": 1710861662983,
     "user": {
      "displayName": "Lakshmana Vinay Maddala",
      "userId": "04696997615404432546"
     },
     "user_tz": -330
    },
    "id": "wh1H8LZsTPO2"
   },
   "outputs": [],
   "source": [
    "x_train_ro[['CreditScore','Age','Tenure','Balance','Estimated Salary']]=sc.fit_transform(x_train_ro[['CreditScore','Age','Tenure','Balance','Estimated Salary']])"
   ]
  },
  {
   "cell_type": "code",
   "execution_count": 56,
   "metadata": {
    "executionInfo": {
     "elapsed": 2,
     "status": "ok",
     "timestamp": 1710861680969,
     "user": {
      "displayName": "Lakshmana Vinay Maddala",
      "userId": "04696997615404432546"
     },
     "user_tz": -330
    },
    "id": "1ZdmiGqqTTQs"
   },
   "outputs": [],
   "source": [
    "x_test_ro[['CreditScore','Age','Tenure','Balance','Estimated Salary']]=sc.fit_transform(x_test_ro[['CreditScore','Age','Tenure','Balance','Estimated Salary']])"
   ]
  },
  {
   "cell_type": "markdown",
   "metadata": {
    "id": "XEt7rLQJTniF"
   },
   "source": [
    "***Support Vector Machine Classifier***"
   ]
  },
  {
   "cell_type": "code",
   "execution_count": 57,
   "metadata": {
    "executionInfo": {
     "elapsed": 478,
     "status": "ok",
     "timestamp": 1710861782591,
     "user": {
      "displayName": "Lakshmana Vinay Maddala",
      "userId": "04696997615404432546"
     },
     "user_tz": -330
    },
    "id": "q1R551cfTsPm"
   },
   "outputs": [],
   "source": [
    "from sklearn.svm import SVC"
   ]
  },
  {
   "cell_type": "code",
   "execution_count": 58,
   "metadata": {
    "executionInfo": {
     "elapsed": 2,
     "status": "ok",
     "timestamp": 1710861786657,
     "user": {
      "displayName": "Lakshmana Vinay Maddala",
      "userId": "04696997615404432546"
     },
     "user_tz": -330
    },
    "id": "80IuFxtaTwVA"
   },
   "outputs": [],
   "source": [
    "svc=SVC()"
   ]
  },
  {
   "cell_type": "code",
   "execution_count": 59,
   "metadata": {
    "colab": {
     "base_uri": "https://localhost:8080/",
     "height": 74
    },
    "executionInfo": {
     "elapsed": 3756,
     "status": "ok",
     "timestamp": 1710861809965,
     "user": {
      "displayName": "Lakshmana Vinay Maddala",
      "userId": "04696997615404432546"
     },
     "user_tz": -330
    },
    "id": "5V4tJF-0TxoJ",
    "outputId": "2c683ea5-6f5e-4cad-df9e-f58b52e27b82"
   },
   "outputs": [
    {
     "data": {
      "text/plain": [
       "SVC()"
      ]
     },
     "execution_count": 59,
     "metadata": {},
     "output_type": "execute_result"
    }
   ],
   "source": [
    "svc.fit(x_train,y_train)"
   ]
  },
  {
   "cell_type": "code",
   "execution_count": 60,
   "metadata": {
    "executionInfo": {
     "elapsed": 2894,
     "status": "ok",
     "timestamp": 1710861829661,
     "user": {
      "displayName": "Lakshmana Vinay Maddala",
      "userId": "04696997615404432546"
     },
     "user_tz": -330
    },
    "id": "8UEWhMj4T2Iz"
   },
   "outputs": [],
   "source": [
    "y_pred=svc.predict(x_test)"
   ]
  },
  {
   "cell_type": "markdown",
   "metadata": {
    "id": "R9q-VP7BT-iW"
   },
   "source": [
    "***Model Accuracy***"
   ]
  },
  {
   "cell_type": "code",
   "execution_count": 61,
   "metadata": {
    "executionInfo": {
     "elapsed": 2,
     "status": "ok",
     "timestamp": 1710861881779,
     "user": {
      "displayName": "Lakshmana Vinay Maddala",
      "userId": "04696997615404432546"
     },
     "user_tz": -330
    },
    "id": "Z-utEpvUUCAM"
   },
   "outputs": [],
   "source": [
    "from sklearn.metrics import confusion_matrix,classification_report"
   ]
  },
  {
   "cell_type": "code",
   "execution_count": 62,
   "metadata": {
    "colab": {
     "base_uri": "https://localhost:8080/",
     "height": 0
    },
    "executionInfo": {
     "elapsed": 5,
     "status": "ok",
     "timestamp": 1710861904135,
     "user": {
      "displayName": "Lakshmana Vinay Maddala",
      "userId": "04696997615404432546"
     },
     "user_tz": -330
    },
    "id": "v1s0fusTUIxH",
    "outputId": "402aa805-b64e-43f4-adf6-44fba33cac2f"
   },
   "outputs": [
    {
     "data": {
      "text/plain": [
       "array([[2374,   45],\n",
       "       [ 421,  160]], dtype=int64)"
      ]
     },
     "execution_count": 62,
     "metadata": {},
     "output_type": "execute_result"
    }
   ],
   "source": [
    "confusion_matrix(y_test,y_pred)"
   ]
  },
  {
   "cell_type": "code",
   "execution_count": 63,
   "metadata": {
    "colab": {
     "base_uri": "https://localhost:8080/",
     "height": 0
    },
    "executionInfo": {
     "elapsed": 6,
     "status": "ok",
     "timestamp": 1710861923880,
     "user": {
      "displayName": "Lakshmana Vinay Maddala",
      "userId": "04696997615404432546"
     },
     "user_tz": -330
    },
    "id": "zy51SZvCUODc",
    "outputId": "3d3cab73-cb78-4673-9fb5-a65bca69aac1"
   },
   "outputs": [
    {
     "name": "stdout",
     "output_type": "stream",
     "text": [
      "              precision    recall  f1-score   support\n",
      "\n",
      "           0       0.85      0.98      0.91      2419\n",
      "           1       0.78      0.28      0.41       581\n",
      "\n",
      "    accuracy                           0.84      3000\n",
      "   macro avg       0.81      0.63      0.66      3000\n",
      "weighted avg       0.84      0.84      0.81      3000\n",
      "\n"
     ]
    }
   ],
   "source": [
    "print(classification_report(y_test,y_pred))"
   ]
  },
  {
   "cell_type": "code",
   "execution_count": 64,
   "metadata": {
    "executionInfo": {
     "elapsed": 417,
     "status": "ok",
     "timestamp": 1710861971731,
     "user": {
      "displayName": "Lakshmana Vinay Maddala",
      "userId": "04696997615404432546"
     },
     "user_tz": -330
    },
    "id": "yIYK9WP0UTDz"
   },
   "outputs": [],
   "source": [
    "from sklearn.model_selection import GridSearchCV"
   ]
  },
  {
   "cell_type": "code",
   "execution_count": 65,
   "metadata": {
    "executionInfo": {
     "elapsed": 707,
     "status": "ok",
     "timestamp": 1710862116293,
     "user": {
      "displayName": "Lakshmana Vinay Maddala",
      "userId": "04696997615404432546"
     },
     "user_tz": -330
    },
    "id": "rhZbMH-mUetP"
   },
   "outputs": [],
   "source": [
    "param_grid={'C':[0.1,1,1.0],\n",
    "            'gamma':[1,0.1,0.01],\n",
    "            'kernel':['rbf'],\n",
    "            'class_weight':['balanced']}"
   ]
  },
  {
   "cell_type": "code",
   "execution_count": 66,
   "metadata": {
    "colab": {
     "base_uri": "https://localhost:8080/",
     "height": 446
    },
    "executionInfo": {
     "elapsed": 45035,
     "status": "ok",
     "timestamp": 1710862161327,
     "user": {
      "displayName": "Lakshmana Vinay Maddala",
      "userId": "04696997615404432546"
     },
     "user_tz": -330
    },
    "id": "Ie4atyZXUtpX",
    "outputId": "3a4f887d-3f1e-48fd-abca-6cc814cba2ca"
   },
   "outputs": [
    {
     "name": "stdout",
     "output_type": "stream",
     "text": [
      "Fitting 2 folds for each of 9 candidates, totalling 18 fits\n",
      "[CV] END ..C=0.1, class_weight=balanced, gamma=1, kernel=rbf; total time=   2.4s\n",
      "[CV] END ..C=0.1, class_weight=balanced, gamma=1, kernel=rbf; total time=   2.0s\n",
      "[CV] END C=0.1, class_weight=balanced, gamma=0.1, kernel=rbf; total time=   1.5s\n",
      "[CV] END C=0.1, class_weight=balanced, gamma=0.1, kernel=rbf; total time=   1.5s\n",
      "[CV] END C=0.1, class_weight=balanced, gamma=0.01, kernel=rbf; total time=   1.8s\n",
      "[CV] END C=0.1, class_weight=balanced, gamma=0.01, kernel=rbf; total time=   1.6s\n",
      "[CV] END ....C=1, class_weight=balanced, gamma=1, kernel=rbf; total time=   1.8s\n",
      "[CV] END ....C=1, class_weight=balanced, gamma=1, kernel=rbf; total time=   1.7s\n",
      "[CV] END ..C=1, class_weight=balanced, gamma=0.1, kernel=rbf; total time=   1.2s\n",
      "[CV] END ..C=1, class_weight=balanced, gamma=0.1, kernel=rbf; total time=   1.3s\n",
      "[CV] END .C=1, class_weight=balanced, gamma=0.01, kernel=rbf; total time=   1.3s\n",
      "[CV] END .C=1, class_weight=balanced, gamma=0.01, kernel=rbf; total time=   1.4s\n",
      "[CV] END ..C=1.0, class_weight=balanced, gamma=1, kernel=rbf; total time=   1.7s\n",
      "[CV] END ..C=1.0, class_weight=balanced, gamma=1, kernel=rbf; total time=   1.9s\n",
      "[CV] END C=1.0, class_weight=balanced, gamma=0.1, kernel=rbf; total time=   1.3s\n",
      "[CV] END C=1.0, class_weight=balanced, gamma=0.1, kernel=rbf; total time=   1.3s\n",
      "[CV] END C=1.0, class_weight=balanced, gamma=0.01, kernel=rbf; total time=   1.4s\n",
      "[CV] END C=1.0, class_weight=balanced, gamma=0.01, kernel=rbf; total time=   1.4s\n"
     ]
    },
    {
     "data": {
      "text/plain": [
       "GridSearchCV(cv=2, estimator=SVC(),\n",
       "             param_grid={'C': [0.1, 1, 1.0], 'class_weight': ['balanced'],\n",
       "                         'gamma': [1, 0.1, 0.01], 'kernel': ['rbf']},\n",
       "             verbose=2)"
      ]
     },
     "execution_count": 66,
     "metadata": {},
     "output_type": "execute_result"
    }
   ],
   "source": [
    "grid=GridSearchCV(SVC(),param_grid,refit=True,verbose=2,cv=2)\n",
    "grid.fit(x_train,y_train)"
   ]
  },
  {
   "cell_type": "code",
   "execution_count": 67,
   "metadata": {
    "colab": {
     "base_uri": "https://localhost:8080/",
     "height": 0
    },
    "executionInfo": {
     "elapsed": 778,
     "status": "ok",
     "timestamp": 1710862188968,
     "user": {
      "displayName": "Lakshmana Vinay Maddala",
      "userId": "04696997615404432546"
     },
     "user_tz": -330
    },
    "id": "MMrexN_fU_a7",
    "outputId": "e3c1c903-05a2-442f-f801-dbd8f0e7d798"
   },
   "outputs": [
    {
     "name": "stdout",
     "output_type": "stream",
     "text": [
      "SVC(C=0.1, class_weight='balanced', gamma=1)\n"
     ]
    }
   ],
   "source": [
    "print(grid.best_estimator_)"
   ]
  },
  {
   "cell_type": "code",
   "execution_count": 68,
   "metadata": {
    "executionInfo": {
     "elapsed": 3239,
     "status": "ok",
     "timestamp": 1710862214699,
     "user": {
      "displayName": "Lakshmana Vinay Maddala",
      "userId": "04696997615404432546"
     },
     "user_tz": -330
    },
    "id": "owPXgH9HVTc9"
   },
   "outputs": [],
   "source": [
    "grid_predictions=grid.predict(x_test)"
   ]
  },
  {
   "cell_type": "code",
   "execution_count": 69,
   "metadata": {
    "colab": {
     "base_uri": "https://localhost:8080/",
     "height": 0
    },
    "executionInfo": {
     "elapsed": 6,
     "status": "ok",
     "timestamp": 1710862235052,
     "user": {
      "displayName": "Lakshmana Vinay Maddala",
      "userId": "04696997615404432546"
     },
     "user_tz": -330
    },
    "id": "4t2L8-IFVZMt",
    "outputId": "73a99a0c-e812-4264-81f7-989ac4990fee"
   },
   "outputs": [
    {
     "data": {
      "text/plain": [
       "array([[2019,  400],\n",
       "       [ 258,  323]], dtype=int64)"
      ]
     },
     "execution_count": 69,
     "metadata": {},
     "output_type": "execute_result"
    }
   ],
   "source": [
    "confusion_matrix(y_test,grid_predictions)"
   ]
  },
  {
   "cell_type": "code",
   "execution_count": 70,
   "metadata": {
    "colab": {
     "base_uri": "https://localhost:8080/",
     "height": 0
    },
    "executionInfo": {
     "elapsed": 5,
     "status": "ok",
     "timestamp": 1710862255715,
     "user": {
      "displayName": "Lakshmana Vinay Maddala",
      "userId": "04696997615404432546"
     },
     "user_tz": -330
    },
    "id": "ZTyt0sxAVe7i",
    "outputId": "35f83ed8-835f-42a0-9982-647348bd1734"
   },
   "outputs": [
    {
     "name": "stdout",
     "output_type": "stream",
     "text": [
      "              precision    recall  f1-score   support\n",
      "\n",
      "           0       0.89      0.83      0.86      2419\n",
      "           1       0.45      0.56      0.50       581\n",
      "\n",
      "    accuracy                           0.78      3000\n",
      "   macro avg       0.67      0.70      0.68      3000\n",
      "weighted avg       0.80      0.78      0.79      3000\n",
      "\n"
     ]
    }
   ],
   "source": [
    "print(classification_report(y_test,grid_predictions))"
   ]
  },
  {
   "cell_type": "markdown",
   "metadata": {
    "id": "5Mff0AoLVrOH"
   },
   "source": [
    "***Model With Random Under Sampling***"
   ]
  },
  {
   "cell_type": "code",
   "execution_count": 71,
   "metadata": {
    "executionInfo": {
     "elapsed": 401,
     "status": "ok",
     "timestamp": 1710862312111,
     "user": {
      "displayName": "Lakshmana Vinay Maddala",
      "userId": "04696997615404432546"
     },
     "user_tz": -330
    },
    "id": "YIYXCjIEVvKg"
   },
   "outputs": [],
   "source": [
    "svc_rs=SVC()"
   ]
  },
  {
   "cell_type": "code",
   "execution_count": 72,
   "metadata": {
    "colab": {
     "base_uri": "https://localhost:8080/",
     "height": 74
    },
    "executionInfo": {
     "elapsed": 1193,
     "status": "ok",
     "timestamp": 1710862334608,
     "user": {
      "displayName": "Lakshmana Vinay Maddala",
      "userId": "04696997615404432546"
     },
     "user_tz": -330
    },
    "id": "UW8r0nRlVxxK",
    "outputId": "55d8d6a0-bdec-4686-9db3-c741077481ef"
   },
   "outputs": [
    {
     "data": {
      "text/plain": [
       "SVC()"
      ]
     },
     "execution_count": 72,
     "metadata": {},
     "output_type": "execute_result"
    }
   ],
   "source": [
    "svc_rs.fit(x_train_rs,y_train_rs)"
   ]
  },
  {
   "cell_type": "code",
   "execution_count": 73,
   "metadata": {
    "executionInfo": {
     "elapsed": 433,
     "status": "ok",
     "timestamp": 1710862356965,
     "user": {
      "displayName": "Lakshmana Vinay Maddala",
      "userId": "04696997615404432546"
     },
     "user_tz": -330
    },
    "id": "E2DwQ_4OV22b"
   },
   "outputs": [],
   "source": [
    "y_pred_rs=svc_rs.predict(x_test_rs)"
   ]
  },
  {
   "cell_type": "markdown",
   "metadata": {
    "id": "RMI5QLioV-Oq"
   },
   "source": [
    "***Model Accuracy***"
   ]
  },
  {
   "cell_type": "code",
   "execution_count": 74,
   "metadata": {
    "colab": {
     "base_uri": "https://localhost:8080/",
     "height": 0
    },
    "executionInfo": {
     "elapsed": 667,
     "status": "ok",
     "timestamp": 1710862397831,
     "user": {
      "displayName": "Lakshmana Vinay Maddala",
      "userId": "04696997615404432546"
     },
     "user_tz": -330
    },
    "id": "ULb1hiq_WAkn",
    "outputId": "44eea5d4-af3b-4450-ef4c-14aa9d0c423d"
   },
   "outputs": [
    {
     "data": {
      "text/plain": [
       "array([[483, 120],\n",
       "       [172, 448]], dtype=int64)"
      ]
     },
     "execution_count": 74,
     "metadata": {},
     "output_type": "execute_result"
    }
   ],
   "source": [
    "confusion_matrix(y_test_rs,y_pred_rs)"
   ]
  },
  {
   "cell_type": "code",
   "execution_count": 75,
   "metadata": {
    "colab": {
     "base_uri": "https://localhost:8080/",
     "height": 0
    },
    "executionInfo": {
     "elapsed": 485,
     "status": "ok",
     "timestamp": 1710862429957,
     "user": {
      "displayName": "Lakshmana Vinay Maddala",
      "userId": "04696997615404432546"
     },
     "user_tz": -330
    },
    "id": "LZ4dZD0PWGra",
    "outputId": "838e0eff-a6ef-4495-dd63-8d7fce9bbe12"
   },
   "outputs": [
    {
     "name": "stdout",
     "output_type": "stream",
     "text": [
      "              precision    recall  f1-score   support\n",
      "\n",
      "           0       0.74      0.80      0.77       603\n",
      "           1       0.79      0.72      0.75       620\n",
      "\n",
      "    accuracy                           0.76      1223\n",
      "   macro avg       0.76      0.76      0.76      1223\n",
      "weighted avg       0.76      0.76      0.76      1223\n",
      "\n"
     ]
    }
   ],
   "source": [
    "print(classification_report(y_test_rs,y_pred_rs))"
   ]
  },
  {
   "cell_type": "markdown",
   "metadata": {
    "id": "iQlM97CIWVj0"
   },
   "source": [
    "***Hyperparameter Tunning***"
   ]
  },
  {
   "cell_type": "code",
   "execution_count": 76,
   "metadata": {
    "executionInfo": {
     "elapsed": 668,
     "status": "ok",
     "timestamp": 1710862534434,
     "user": {
      "displayName": "Lakshmana Vinay Maddala",
      "userId": "04696997615404432546"
     },
     "user_tz": -330
    },
    "id": "n8SQ89ElWeQP"
   },
   "outputs": [],
   "source": [
    "param_grid={'C':[0.1,1,1.0],\n",
    "            'gamma':[1,0.1,0.01],\n",
    "            'kernel':['rbf'],\n",
    "            'class_weight':['balanced']}"
   ]
  },
  {
   "cell_type": "code",
   "execution_count": 77,
   "metadata": {
    "colab": {
     "base_uri": "https://localhost:8080/",
     "height": 446
    },
    "executionInfo": {
     "elapsed": 7819,
     "status": "ok",
     "timestamp": 1710862577242,
     "user": {
      "displayName": "Lakshmana Vinay Maddala",
      "userId": "04696997615404432546"
     },
     "user_tz": -330
    },
    "id": "QlSG6xYaWoB4",
    "outputId": "5a5e2e7c-0fb4-4959-c429-3b0f253916d0"
   },
   "outputs": [
    {
     "name": "stdout",
     "output_type": "stream",
     "text": [
      "Fitting 2 folds for each of 9 candidates, totalling 18 fits\n",
      "[CV] END ..C=0.1, class_weight=balanced, gamma=1, kernel=rbf; total time=   0.3s\n",
      "[CV] END ..C=0.1, class_weight=balanced, gamma=1, kernel=rbf; total time=   0.3s\n",
      "[CV] END C=0.1, class_weight=balanced, gamma=0.1, kernel=rbf; total time=   0.2s\n",
      "[CV] END C=0.1, class_weight=balanced, gamma=0.1, kernel=rbf; total time=   0.2s\n",
      "[CV] END C=0.1, class_weight=balanced, gamma=0.01, kernel=rbf; total time=   0.2s\n",
      "[CV] END C=0.1, class_weight=balanced, gamma=0.01, kernel=rbf; total time=   0.2s\n",
      "[CV] END ....C=1, class_weight=balanced, gamma=1, kernel=rbf; total time=   0.3s\n",
      "[CV] END ....C=1, class_weight=balanced, gamma=1, kernel=rbf; total time=   0.4s\n",
      "[CV] END ..C=1, class_weight=balanced, gamma=0.1, kernel=rbf; total time=   0.2s\n",
      "[CV] END ..C=1, class_weight=balanced, gamma=0.1, kernel=rbf; total time=   0.1s\n",
      "[CV] END .C=1, class_weight=balanced, gamma=0.01, kernel=rbf; total time=   0.2s\n",
      "[CV] END .C=1, class_weight=balanced, gamma=0.01, kernel=rbf; total time=   0.2s\n",
      "[CV] END ..C=1.0, class_weight=balanced, gamma=1, kernel=rbf; total time=   0.3s\n",
      "[CV] END ..C=1.0, class_weight=balanced, gamma=1, kernel=rbf; total time=   0.2s\n",
      "[CV] END C=1.0, class_weight=balanced, gamma=0.1, kernel=rbf; total time=   0.1s\n",
      "[CV] END C=1.0, class_weight=balanced, gamma=0.1, kernel=rbf; total time=   0.2s\n",
      "[CV] END C=1.0, class_weight=balanced, gamma=0.01, kernel=rbf; total time=   0.2s\n",
      "[CV] END C=1.0, class_weight=balanced, gamma=0.01, kernel=rbf; total time=   0.2s\n"
     ]
    },
    {
     "data": {
      "text/plain": [
       "GridSearchCV(cv=2, estimator=SVC(),\n",
       "             param_grid={'C': [0.1, 1, 1.0], 'class_weight': ['balanced'],\n",
       "                         'gamma': [1, 0.1, 0.01], 'kernel': ['rbf']},\n",
       "             verbose=2)"
      ]
     },
     "execution_count": 77,
     "metadata": {},
     "output_type": "execute_result"
    }
   ],
   "source": [
    "grid_rs=GridSearchCV(SVC(),param_grid,refit=True,verbose=2,cv=2)\n",
    "grid_rs.fit(x_train_rs,y_train_rs)"
   ]
  },
  {
   "cell_type": "code",
   "execution_count": 78,
   "metadata": {
    "colab": {
     "base_uri": "https://localhost:8080/",
     "height": 0
    },
    "executionInfo": {
     "elapsed": 9,
     "status": "ok",
     "timestamp": 1710862599222,
     "user": {
      "displayName": "Lakshmana Vinay Maddala",
      "userId": "04696997615404432546"
     },
     "user_tz": -330
    },
    "id": "9mtks6D-WwrP",
    "outputId": "27ae796d-1307-4dd3-ca47-7574d30305d9"
   },
   "outputs": [
    {
     "name": "stdout",
     "output_type": "stream",
     "text": [
      "SVC(C=0.1, class_weight='balanced', gamma=0.1)\n"
     ]
    }
   ],
   "source": [
    "print(grid_rs.best_estimator_)"
   ]
  },
  {
   "cell_type": "code",
   "execution_count": 79,
   "metadata": {
    "executionInfo": {
     "elapsed": 787,
     "status": "ok",
     "timestamp": 1710862646561,
     "user": {
      "displayName": "Lakshmana Vinay Maddala",
      "userId": "04696997615404432546"
     },
     "user_tz": -330
    },
    "id": "nBvwFs7vW4Ag"
   },
   "outputs": [],
   "source": [
    "grid_predictions_rs=grid_rs.predict(x_test_rs)"
   ]
  },
  {
   "cell_type": "code",
   "execution_count": 80,
   "metadata": {
    "colab": {
     "base_uri": "https://localhost:8080/",
     "height": 0
    },
    "executionInfo": {
     "elapsed": 425,
     "status": "ok",
     "timestamp": 1710862673474,
     "user": {
      "displayName": "Lakshmana Vinay Maddala",
      "userId": "04696997615404432546"
     },
     "user_tz": -330
    },
    "id": "_HeuO73HXBqR",
    "outputId": "ae7a5f24-34ed-40a6-bd03-86ea0956a3b8"
   },
   "outputs": [
    {
     "data": {
      "text/plain": [
       "array([[458, 145],\n",
       "       [178, 442]], dtype=int64)"
      ]
     },
     "execution_count": 80,
     "metadata": {},
     "output_type": "execute_result"
    }
   ],
   "source": [
    "confusion_matrix(y_test_rs,grid_predictions_rs)"
   ]
  },
  {
   "cell_type": "code",
   "execution_count": 81,
   "metadata": {
    "colab": {
     "base_uri": "https://localhost:8080/",
     "height": 0
    },
    "executionInfo": {
     "elapsed": 411,
     "status": "ok",
     "timestamp": 1710862686379,
     "user": {
      "displayName": "Lakshmana Vinay Maddala",
      "userId": "04696997615404432546"
     },
     "user_tz": -330
    },
    "id": "pWCM2oMhXJ8q",
    "outputId": "bfdd6cb7-188c-496a-cd4b-c2adbb59cefe"
   },
   "outputs": [
    {
     "name": "stdout",
     "output_type": "stream",
     "text": [
      "              precision    recall  f1-score   support\n",
      "\n",
      "           0       0.72      0.76      0.74       603\n",
      "           1       0.75      0.71      0.73       620\n",
      "\n",
      "    accuracy                           0.74      1223\n",
      "   macro avg       0.74      0.74      0.74      1223\n",
      "weighted avg       0.74      0.74      0.74      1223\n",
      "\n"
     ]
    }
   ],
   "source": [
    "print(classification_report(y_test_rs,grid_predictions_rs))"
   ]
  },
  {
   "cell_type": "markdown",
   "metadata": {
    "id": "_V7ZbeiAXSaZ"
   },
   "source": [
    "***Model With Random Over Sampling***"
   ]
  },
  {
   "cell_type": "code",
   "execution_count": 82,
   "metadata": {
    "executionInfo": {
     "elapsed": 2,
     "status": "ok",
     "timestamp": 1710862736346,
     "user": {
      "displayName": "Lakshmana Vinay Maddala",
      "userId": "04696997615404432546"
     },
     "user_tz": -330
    },
    "id": "O3Zn9jcBXWxZ"
   },
   "outputs": [],
   "source": [
    "svc_ro=SVC()"
   ]
  },
  {
   "cell_type": "code",
   "execution_count": 83,
   "metadata": {
    "colab": {
     "base_uri": "https://localhost:8080/",
     "height": 74
    },
    "executionInfo": {
     "elapsed": 9131,
     "status": "ok",
     "timestamp": 1710862765784,
     "user": {
      "displayName": "Lakshmana Vinay Maddala",
      "userId": "04696997615404432546"
     },
     "user_tz": -330
    },
    "id": "b6ayz1gqXZYV",
    "outputId": "142a1bb3-f935-45cc-cb6a-edde0ae9cfc9"
   },
   "outputs": [
    {
     "data": {
      "text/plain": [
       "SVC()"
      ]
     },
     "execution_count": 83,
     "metadata": {},
     "output_type": "execute_result"
    }
   ],
   "source": [
    "svc_ro.fit(x_train_ro,y_train_ro)"
   ]
  },
  {
   "cell_type": "code",
   "execution_count": 84,
   "metadata": {
    "executionInfo": {
     "elapsed": 3450,
     "status": "ok",
     "timestamp": 1710862784611,
     "user": {
      "displayName": "Lakshmana Vinay Maddala",
      "userId": "04696997615404432546"
     },
     "user_tz": -330
    },
    "id": "0kW0tuREXedN"
   },
   "outputs": [],
   "source": [
    "y_pred_ro=svc_ro.predict(x_test_ro)"
   ]
  },
  {
   "cell_type": "markdown",
   "metadata": {
    "id": "ZLebIICtXl79"
   },
   "source": [
    "***Model Accuracy***"
   ]
  },
  {
   "cell_type": "code",
   "execution_count": 85,
   "metadata": {
    "colab": {
     "base_uri": "https://localhost:8080/",
     "height": 0
    },
    "executionInfo": {
     "elapsed": 7,
     "status": "ok",
     "timestamp": 1710862822490,
     "user": {
      "displayName": "Lakshmana Vinay Maddala",
      "userId": "04696997615404432546"
     },
     "user_tz": -330
    },
    "id": "HUKVEczrXpXd",
    "outputId": "2a3bf404-70a9-461f-ea50-a1cde7b98a95"
   },
   "outputs": [
    {
     "data": {
      "text/plain": [
       "array([[1854,  572],\n",
       "       [ 551, 1801]], dtype=int64)"
      ]
     },
     "execution_count": 85,
     "metadata": {},
     "output_type": "execute_result"
    }
   ],
   "source": [
    "confusion_matrix(y_test_ro,y_pred_ro)"
   ]
  },
  {
   "cell_type": "code",
   "execution_count": 86,
   "metadata": {
    "colab": {
     "base_uri": "https://localhost:8080/",
     "height": 0
    },
    "executionInfo": {
     "elapsed": 557,
     "status": "ok",
     "timestamp": 1710862844567,
     "user": {
      "displayName": "Lakshmana Vinay Maddala",
      "userId": "04696997615404432546"
     },
     "user_tz": -330
    },
    "id": "Mv3lWF5ZXugK",
    "outputId": "4effbf15-1df4-47a8-b6f3-e81e41e71f56"
   },
   "outputs": [
    {
     "name": "stdout",
     "output_type": "stream",
     "text": [
      "              precision    recall  f1-score   support\n",
      "\n",
      "           0       0.77      0.76      0.77      2426\n",
      "           1       0.76      0.77      0.76      2352\n",
      "\n",
      "    accuracy                           0.76      4778\n",
      "   macro avg       0.76      0.76      0.76      4778\n",
      "weighted avg       0.77      0.76      0.76      4778\n",
      "\n"
     ]
    }
   ],
   "source": [
    "print(classification_report(y_test_ro,y_pred_ro))"
   ]
  },
  {
   "cell_type": "markdown",
   "metadata": {
    "id": "uLNfvDUcX2vu"
   },
   "source": [
    "***Hyperparameter Tunning***"
   ]
  },
  {
   "cell_type": "code",
   "execution_count": 87,
   "metadata": {
    "executionInfo": {
     "elapsed": 522,
     "status": "ok",
     "timestamp": 1710862893200,
     "user": {
      "displayName": "Lakshmana Vinay Maddala",
      "userId": "04696997615404432546"
     },
     "user_tz": -330
    },
    "id": "qt1NYHlmX6LL"
   },
   "outputs": [],
   "source": [
    "param_grid={'C':[0.1,1,1.0],\n",
    "            'gamma':[1,0.1,0.01],\n",
    "            'kernel':['rbf'],\n",
    "            'class_weight':['balanced']}"
   ]
  },
  {
   "cell_type": "code",
   "execution_count": 88,
   "metadata": {
    "colab": {
     "base_uri": "https://localhost:8080/",
     "height": 446
    },
    "executionInfo": {
     "elapsed": 96656,
     "status": "ok",
     "timestamp": 1710863017103,
     "user": {
      "displayName": "Lakshmana Vinay Maddala",
      "userId": "04696997615404432546"
     },
     "user_tz": -330
    },
    "id": "pUKsixeOX_tG",
    "outputId": "2c7afd5d-2a83-42ad-8c7a-9c663334232a"
   },
   "outputs": [
    {
     "name": "stdout",
     "output_type": "stream",
     "text": [
      "Fitting 2 folds for each of 9 candidates, totalling 18 fits\n",
      "[CV] END ..C=0.1, class_weight=balanced, gamma=1, kernel=rbf; total time=   5.5s\n",
      "[CV] END ..C=0.1, class_weight=balanced, gamma=1, kernel=rbf; total time=   5.2s\n",
      "[CV] END C=0.1, class_weight=balanced, gamma=0.1, kernel=rbf; total time=   3.7s\n",
      "[CV] END C=0.1, class_weight=balanced, gamma=0.1, kernel=rbf; total time=   3.7s\n",
      "[CV] END C=0.1, class_weight=balanced, gamma=0.01, kernel=rbf; total time=   5.1s\n",
      "[CV] END C=0.1, class_weight=balanced, gamma=0.01, kernel=rbf; total time=   4.2s\n",
      "[CV] END ....C=1, class_weight=balanced, gamma=1, kernel=rbf; total time=   4.2s\n",
      "[CV] END ....C=1, class_weight=balanced, gamma=1, kernel=rbf; total time=   4.7s\n",
      "[CV] END ..C=1, class_weight=balanced, gamma=0.1, kernel=rbf; total time=   3.4s\n",
      "[CV] END ..C=1, class_weight=balanced, gamma=0.1, kernel=rbf; total time=   3.3s\n",
      "[CV] END .C=1, class_weight=balanced, gamma=0.01, kernel=rbf; total time=   3.9s\n",
      "[CV] END .C=1, class_weight=balanced, gamma=0.01, kernel=rbf; total time=   4.8s\n",
      "[CV] END ..C=1.0, class_weight=balanced, gamma=1, kernel=rbf; total time=   4.5s\n",
      "[CV] END ..C=1.0, class_weight=balanced, gamma=1, kernel=rbf; total time=   4.5s\n",
      "[CV] END C=1.0, class_weight=balanced, gamma=0.1, kernel=rbf; total time=   3.5s\n",
      "[CV] END C=1.0, class_weight=balanced, gamma=0.1, kernel=rbf; total time=   3.9s\n",
      "[CV] END C=1.0, class_weight=balanced, gamma=0.01, kernel=rbf; total time=   3.7s\n",
      "[CV] END C=1.0, class_weight=balanced, gamma=0.01, kernel=rbf; total time=   4.4s\n"
     ]
    },
    {
     "data": {
      "text/plain": [
       "GridSearchCV(cv=2, estimator=SVC(),\n",
       "             param_grid={'C': [0.1, 1, 1.0], 'class_weight': ['balanced'],\n",
       "                         'gamma': [1, 0.1, 0.01], 'kernel': ['rbf']},\n",
       "             verbose=2)"
      ]
     },
     "execution_count": 88,
     "metadata": {},
     "output_type": "execute_result"
    }
   ],
   "source": [
    "grid_ro=GridSearchCV(SVC(),param_grid,refit=True,verbose=2,cv=2)\n",
    "grid_ro.fit(x_train_ro,y_train_ro)"
   ]
  },
  {
   "cell_type": "code",
   "execution_count": 89,
   "metadata": {
    "colab": {
     "base_uri": "https://localhost:8080/",
     "height": 0
    },
    "executionInfo": {
     "elapsed": 404,
     "status": "ok",
     "timestamp": 1710863025185,
     "user": {
      "displayName": "Lakshmana Vinay Maddala",
      "userId": "04696997615404432546"
     },
     "user_tz": -330
    },
    "id": "10gCNyt4YGX2",
    "outputId": "0ca1c171-8cf1-466a-c6ad-1d8bd8cd4a87"
   },
   "outputs": [
    {
     "name": "stdout",
     "output_type": "stream",
     "text": [
      "SVC(C=1, class_weight='balanced', gamma=1)\n"
     ]
    }
   ],
   "source": [
    "print(grid_ro.best_estimator_)"
   ]
  },
  {
   "cell_type": "code",
   "execution_count": 90,
   "metadata": {
    "executionInfo": {
     "elapsed": 2976,
     "status": "ok",
     "timestamp": 1710863098472,
     "user": {
      "displayName": "Lakshmana Vinay Maddala",
      "userId": "04696997615404432546"
     },
     "user_tz": -330
    },
    "id": "pA5cj2npYK0J"
   },
   "outputs": [],
   "source": [
    "grid_predictions_ro=grid_ro.predict(x_test_ro)"
   ]
  },
  {
   "cell_type": "code",
   "execution_count": 91,
   "metadata": {
    "colab": {
     "base_uri": "https://localhost:8080/",
     "height": 0
    },
    "executionInfo": {
     "elapsed": 436,
     "status": "ok",
     "timestamp": 1710863101459,
     "user": {
      "displayName": "Lakshmana Vinay Maddala",
      "userId": "04696997615404432546"
     },
     "user_tz": -330
    },
    "id": "D_izbyImYQ2J",
    "outputId": "cd419c0d-5291-447e-e0de-896e109f7c64"
   },
   "outputs": [
    {
     "data": {
      "text/plain": [
       "array([[2077,  349],\n",
       "       [ 190, 2162]], dtype=int64)"
      ]
     },
     "execution_count": 91,
     "metadata": {},
     "output_type": "execute_result"
    }
   ],
   "source": [
    "confusion_matrix(y_test_ro,grid_predictions_ro)"
   ]
  },
  {
   "cell_type": "code",
   "execution_count": 92,
   "metadata": {
    "colab": {
     "base_uri": "https://localhost:8080/",
     "height": 0
    },
    "executionInfo": {
     "elapsed": 8,
     "status": "ok",
     "timestamp": 1710863103142,
     "user": {
      "displayName": "Lakshmana Vinay Maddala",
      "userId": "04696997615404432546"
     },
     "user_tz": -330
    },
    "id": "_LNoOTveYUec",
    "outputId": "b95a6800-5e65-4445-bdd9-3de00d81c8cc"
   },
   "outputs": [
    {
     "name": "stdout",
     "output_type": "stream",
     "text": [
      "              precision    recall  f1-score   support\n",
      "\n",
      "           0       0.92      0.86      0.89      2426\n",
      "           1       0.86      0.92      0.89      2352\n",
      "\n",
      "    accuracy                           0.89      4778\n",
      "   macro avg       0.89      0.89      0.89      4778\n",
      "weighted avg       0.89      0.89      0.89      4778\n",
      "\n"
     ]
    }
   ],
   "source": [
    "print(classification_report(y_test_ro,grid_predictions_ro))"
   ]
  },
  {
   "cell_type": "code",
   "execution_count": 93,
   "metadata": {
    "colab": {
     "base_uri": "https://localhost:8080/",
     "height": 0
    },
    "executionInfo": {
     "elapsed": 625,
     "status": "ok",
     "timestamp": 1710863320286,
     "user": {
      "displayName": "Lakshmana Vinay Maddala",
      "userId": "04696997615404432546"
     },
     "user_tz": -330
    },
    "id": "p6G4RWapYiQH",
    "outputId": "ffa960f0-4385-4ec2-f244-3a51336fffa9"
   },
   "outputs": [
    {
     "name": "stdout",
     "output_type": "stream",
     "text": [
      "              precision    recall  f1-score   support\n",
      "\n",
      "           0       0.85      0.98      0.91      2419\n",
      "           1       0.78      0.28      0.41       581\n",
      "\n",
      "    accuracy                           0.84      3000\n",
      "   macro avg       0.81      0.63      0.66      3000\n",
      "weighted avg       0.84      0.84      0.81      3000\n",
      "\n"
     ]
    }
   ],
   "source": [
    "print(classification_report(y_test,y_pred))"
   ]
  },
  {
   "cell_type": "code",
   "execution_count": 94,
   "metadata": {
    "colab": {
     "base_uri": "https://localhost:8080/",
     "height": 0
    },
    "executionInfo": {
     "elapsed": 8,
     "status": "ok",
     "timestamp": 1710863321090,
     "user": {
      "displayName": "Lakshmana Vinay Maddala",
      "userId": "04696997615404432546"
     },
     "user_tz": -330
    },
    "id": "Ho1oDB84ZWBv",
    "outputId": "863ce4cb-4052-4274-8770-ed5216f0320d"
   },
   "outputs": [
    {
     "name": "stdout",
     "output_type": "stream",
     "text": [
      "              precision    recall  f1-score   support\n",
      "\n",
      "           0       0.89      0.83      0.86      2419\n",
      "           1       0.45      0.56      0.50       581\n",
      "\n",
      "    accuracy                           0.78      3000\n",
      "   macro avg       0.67      0.70      0.68      3000\n",
      "weighted avg       0.80      0.78      0.79      3000\n",
      "\n"
     ]
    }
   ],
   "source": [
    "print(classification_report(y_test,grid_predictions))"
   ]
  },
  {
   "cell_type": "code",
   "execution_count": 95,
   "metadata": {
    "colab": {
     "base_uri": "https://localhost:8080/",
     "height": 0
    },
    "executionInfo": {
     "elapsed": 8,
     "status": "ok",
     "timestamp": 1710863321090,
     "user": {
      "displayName": "Lakshmana Vinay Maddala",
      "userId": "04696997615404432546"
     },
     "user_tz": -330
    },
    "id": "jsT3cy0MZXhI",
    "outputId": "0314f29a-56fa-4d97-bfeb-fa269cce9c1b"
   },
   "outputs": [
    {
     "name": "stdout",
     "output_type": "stream",
     "text": [
      "              precision    recall  f1-score   support\n",
      "\n",
      "           0       0.74      0.80      0.77       603\n",
      "           1       0.79      0.72      0.75       620\n",
      "\n",
      "    accuracy                           0.76      1223\n",
      "   macro avg       0.76      0.76      0.76      1223\n",
      "weighted avg       0.76      0.76      0.76      1223\n",
      "\n"
     ]
    }
   ],
   "source": [
    "print(classification_report(y_test_rs,y_pred_rs))"
   ]
  },
  {
   "cell_type": "code",
   "execution_count": 96,
   "metadata": {
    "colab": {
     "base_uri": "https://localhost:8080/",
     "height": 0
    },
    "executionInfo": {
     "elapsed": 8,
     "status": "ok",
     "timestamp": 1710863321504,
     "user": {
      "displayName": "Lakshmana Vinay Maddala",
      "userId": "04696997615404432546"
     },
     "user_tz": -330
    },
    "id": "QeUwvcTfZhts",
    "outputId": "4ca800a6-5fe4-4d3c-b361-26c17639fc87"
   },
   "outputs": [
    {
     "name": "stdout",
     "output_type": "stream",
     "text": [
      "              precision    recall  f1-score   support\n",
      "\n",
      "           0       0.72      0.76      0.74       603\n",
      "           1       0.75      0.71      0.73       620\n",
      "\n",
      "    accuracy                           0.74      1223\n",
      "   macro avg       0.74      0.74      0.74      1223\n",
      "weighted avg       0.74      0.74      0.74      1223\n",
      "\n"
     ]
    }
   ],
   "source": [
    "print(classification_report(y_test_rs,grid_predictions_rs))"
   ]
  },
  {
   "cell_type": "code",
   "execution_count": 97,
   "metadata": {
    "colab": {
     "base_uri": "https://localhost:8080/",
     "height": 0
    },
    "executionInfo": {
     "elapsed": 7,
     "status": "ok",
     "timestamp": 1710863321504,
     "user": {
      "displayName": "Lakshmana Vinay Maddala",
      "userId": "04696997615404432546"
     },
     "user_tz": -330
    },
    "id": "6tY80ipyZjKA",
    "outputId": "47c8919f-7e20-46ae-9c03-0a26c3eec2c7"
   },
   "outputs": [
    {
     "name": "stdout",
     "output_type": "stream",
     "text": [
      "              precision    recall  f1-score   support\n",
      "\n",
      "           0       0.77      0.76      0.77      2426\n",
      "           1       0.76      0.77      0.76      2352\n",
      "\n",
      "    accuracy                           0.76      4778\n",
      "   macro avg       0.76      0.76      0.76      4778\n",
      "weighted avg       0.77      0.76      0.76      4778\n",
      "\n"
     ]
    }
   ],
   "source": [
    "print(classification_report(y_test_ro,y_pred_ro))"
   ]
  },
  {
   "cell_type": "code",
   "execution_count": 98,
   "metadata": {
    "colab": {
     "base_uri": "https://localhost:8080/",
     "height": 0
    },
    "executionInfo": {
     "elapsed": 8,
     "status": "ok",
     "timestamp": 1710863322031,
     "user": {
      "displayName": "Lakshmana Vinay Maddala",
      "userId": "04696997615404432546"
     },
     "user_tz": -330
    },
    "id": "DISb1hFiZkco",
    "outputId": "16a9f913-42b4-4a1e-bafb-b1e482af974a"
   },
   "outputs": [
    {
     "name": "stdout",
     "output_type": "stream",
     "text": [
      "              precision    recall  f1-score   support\n",
      "\n",
      "           0       0.92      0.86      0.89      2426\n",
      "           1       0.86      0.92      0.89      2352\n",
      "\n",
      "    accuracy                           0.89      4778\n",
      "   macro avg       0.89      0.89      0.89      4778\n",
      "weighted avg       0.89      0.89      0.89      4778\n",
      "\n"
     ]
    }
   ],
   "source": [
    "print(classification_report(y_test_ro,grid_predictions_ro)) # More Accuracy"
   ]
  },
  {
   "cell_type": "markdown",
   "metadata": {
    "id": "uk061gz0Z2mr"
   },
   "source": [
    "***Logistic Regression***"
   ]
  },
  {
   "cell_type": "code",
   "execution_count": 99,
   "metadata": {
    "executionInfo": {
     "elapsed": 445,
     "status": "ok",
     "timestamp": 1710863450815,
     "user": {
      "displayName": "Lakshmana Vinay Maddala",
      "userId": "04696997615404432546"
     },
     "user_tz": -330
    },
    "id": "RKIda-DrZ6A4"
   },
   "outputs": [],
   "source": [
    "from sklearn.linear_model import LogisticRegression"
   ]
  },
  {
   "cell_type": "markdown",
   "metadata": {
    "id": "iHelojGCag9i"
   },
   "source": [
    "***Model With Original Data***"
   ]
  },
  {
   "cell_type": "code",
   "execution_count": 100,
   "metadata": {
    "colab": {
     "base_uri": "https://localhost:8080/",
     "height": 74
    },
    "executionInfo": {
     "elapsed": 15,
     "status": "ok",
     "timestamp": 1710863468012,
     "user": {
      "displayName": "Lakshmana Vinay Maddala",
      "userId": "04696997615404432546"
     },
     "user_tz": -330
    },
    "id": "IGdvBaUOaHxI",
    "outputId": "0af0fa4e-07fc-4dd1-9e99-c2d977bc46dc"
   },
   "outputs": [
    {
     "data": {
      "text/plain": [
       "LogisticRegression(random_state=42)"
      ]
     },
     "execution_count": 100,
     "metadata": {},
     "output_type": "execute_result"
    }
   ],
   "source": [
    "classifier = LogisticRegression(random_state=42)\n",
    "classifier.fit(x_train, y_train)"
   ]
  },
  {
   "cell_type": "code",
   "execution_count": 101,
   "metadata": {
    "executionInfo": {
     "elapsed": 3,
     "status": "ok",
     "timestamp": 1710863492001,
     "user": {
      "displayName": "Lakshmana Vinay Maddala",
      "userId": "04696997615404432546"
     },
     "user_tz": -330
    },
    "id": "CmRfmhqeaK4n"
   },
   "outputs": [],
   "source": [
    "y_pred = classifier.predict(x_test)"
   ]
  },
  {
   "cell_type": "code",
   "execution_count": 102,
   "metadata": {
    "colab": {
     "base_uri": "https://localhost:8080/",
     "height": 0
    },
    "executionInfo": {
     "elapsed": 455,
     "status": "ok",
     "timestamp": 1710863498325,
     "user": {
      "displayName": "Lakshmana Vinay Maddala",
      "userId": "04696997615404432546"
     },
     "user_tz": -330
    },
    "id": "cb17g5Y0aOh0",
    "outputId": "48bc1185-7381-448d-db0c-ca1705db241f"
   },
   "outputs": [
    {
     "data": {
      "text/plain": [
       "array([[2331,   88],\n",
       "       [ 450,  131]], dtype=int64)"
      ]
     },
     "execution_count": 102,
     "metadata": {},
     "output_type": "execute_result"
    }
   ],
   "source": [
    "confusion_matrix(y_test, y_pred)"
   ]
  },
  {
   "cell_type": "code",
   "execution_count": 103,
   "metadata": {
    "colab": {
     "base_uri": "https://localhost:8080/",
     "height": 0
    },
    "executionInfo": {
     "elapsed": 7,
     "status": "ok",
     "timestamp": 1710863516866,
     "user": {
      "displayName": "Lakshmana Vinay Maddala",
      "userId": "04696997615404432546"
     },
     "user_tz": -330
    },
    "id": "356eoDuOaTZb",
    "outputId": "343d02c9-87cb-4869-b04a-240f09f6b154"
   },
   "outputs": [
    {
     "name": "stdout",
     "output_type": "stream",
     "text": [
      "              precision    recall  f1-score   support\n",
      "\n",
      "           0       0.84      0.96      0.90      2419\n",
      "           1       0.60      0.23      0.33       581\n",
      "\n",
      "    accuracy                           0.82      3000\n",
      "   macro avg       0.72      0.59      0.61      3000\n",
      "weighted avg       0.79      0.82      0.79      3000\n",
      "\n"
     ]
    }
   ],
   "source": [
    "print(classification_report(y_test, y_pred)) # More Accuracy"
   ]
  },
  {
   "cell_type": "markdown",
   "metadata": {
    "id": "PkzFBO1Zapa3"
   },
   "source": [
    "***Model With Random Under Sample Data***"
   ]
  },
  {
   "cell_type": "code",
   "execution_count": 104,
   "metadata": {
    "colab": {
     "base_uri": "https://localhost:8080/",
     "height": 74
    },
    "executionInfo": {
     "elapsed": 16,
     "status": "ok",
     "timestamp": 1710863638809,
     "user": {
      "displayName": "Lakshmana Vinay Maddala",
      "userId": "04696997615404432546"
     },
     "user_tz": -330
    },
    "id": "ef7mwcNiaWa8",
    "outputId": "00a4111c-5b7c-46ee-f6c0-4958cfd82247"
   },
   "outputs": [
    {
     "data": {
      "text/plain": [
       "LogisticRegression(random_state=42)"
      ]
     },
     "execution_count": 104,
     "metadata": {},
     "output_type": "execute_result"
    }
   ],
   "source": [
    "classifier_rs = LogisticRegression(random_state=42)\n",
    "classifier_rs.fit(x_train_rs, y_train_rs)"
   ]
  },
  {
   "cell_type": "code",
   "execution_count": 105,
   "metadata": {
    "executionInfo": {
     "elapsed": 478,
     "status": "ok",
     "timestamp": 1710863665647,
     "user": {
      "displayName": "Lakshmana Vinay Maddala",
      "userId": "04696997615404432546"
     },
     "user_tz": -330
    },
    "id": "BJ9Ngprha1qS"
   },
   "outputs": [],
   "source": [
    "y_pred_rs = classifier_rs.predict(x_test_rs)"
   ]
  },
  {
   "cell_type": "code",
   "execution_count": 106,
   "metadata": {
    "colab": {
     "base_uri": "https://localhost:8080/",
     "height": 0
    },
    "executionInfo": {
     "elapsed": 655,
     "status": "ok",
     "timestamp": 1710863695291,
     "user": {
      "displayName": "Lakshmana Vinay Maddala",
      "userId": "04696997615404432546"
     },
     "user_tz": -330
    },
    "id": "G1pGOs-aa7Kj",
    "outputId": "b7a2decf-b00f-4a87-ec02-56dbed06725f"
   },
   "outputs": [
    {
     "data": {
      "text/plain": [
       "array([[446, 157],\n",
       "       [172, 448]], dtype=int64)"
      ]
     },
     "execution_count": 106,
     "metadata": {},
     "output_type": "execute_result"
    }
   ],
   "source": [
    "confusion_matrix(y_test_rs, y_pred_rs)"
   ]
  },
  {
   "cell_type": "code",
   "execution_count": 107,
   "metadata": {
    "colab": {
     "base_uri": "https://localhost:8080/",
     "height": 0
    },
    "executionInfo": {
     "elapsed": 7,
     "status": "ok",
     "timestamp": 1710863705237,
     "user": {
      "displayName": "Lakshmana Vinay Maddala",
      "userId": "04696997615404432546"
     },
     "user_tz": -330
    },
    "id": "rQ9oNdUSa_hU",
    "outputId": "dd79b3ac-1ce3-4a36-e70b-97945f4ceffb"
   },
   "outputs": [
    {
     "name": "stdout",
     "output_type": "stream",
     "text": [
      "              precision    recall  f1-score   support\n",
      "\n",
      "           0       0.72      0.74      0.73       603\n",
      "           1       0.74      0.72      0.73       620\n",
      "\n",
      "    accuracy                           0.73      1223\n",
      "   macro avg       0.73      0.73      0.73      1223\n",
      "weighted avg       0.73      0.73      0.73      1223\n",
      "\n"
     ]
    }
   ],
   "source": [
    "print(classification_report(y_test_rs, y_pred_rs))"
   ]
  },
  {
   "cell_type": "markdown",
   "metadata": {
    "id": "XGDAYxT7bHfN"
   },
   "source": [
    "***Model With Random Over Sample Data***"
   ]
  },
  {
   "cell_type": "code",
   "execution_count": 108,
   "metadata": {
    "colab": {
     "base_uri": "https://localhost:8080/",
     "height": 74
    },
    "executionInfo": {
     "elapsed": 21,
     "status": "ok",
     "timestamp": 1710863748168,
     "user": {
      "displayName": "Lakshmana Vinay Maddala",
      "userId": "04696997615404432546"
     },
     "user_tz": -330
    },
    "id": "ZdH4t-HkbF1t",
    "outputId": "c884c2da-05bf-476c-de10-e4838da434ac"
   },
   "outputs": [
    {
     "data": {
      "text/plain": [
       "LogisticRegression(random_state=42)"
      ]
     },
     "execution_count": 108,
     "metadata": {},
     "output_type": "execute_result"
    }
   ],
   "source": [
    "classifier_ro = LogisticRegression(random_state=42)\n",
    "classifier_ro.fit(x_train_ro, y_train_ro)"
   ]
  },
  {
   "cell_type": "code",
   "execution_count": 109,
   "metadata": {
    "executionInfo": {
     "elapsed": 1,
     "status": "ok",
     "timestamp": 1710863764536,
     "user": {
      "displayName": "Lakshmana Vinay Maddala",
      "userId": "04696997615404432546"
     },
     "user_tz": -330
    },
    "id": "WN1IRNkubQRZ"
   },
   "outputs": [],
   "source": [
    "y_pred_ro = classifier_ro.predict(x_test_ro)"
   ]
  },
  {
   "cell_type": "code",
   "execution_count": 110,
   "metadata": {
    "colab": {
     "base_uri": "https://localhost:8080/",
     "height": 0
    },
    "executionInfo": {
     "elapsed": 431,
     "status": "ok",
     "timestamp": 1710863776790,
     "user": {
      "displayName": "Lakshmana Vinay Maddala",
      "userId": "04696997615404432546"
     },
     "user_tz": -330
    },
    "id": "uOHE1Vy9bUTO",
    "outputId": "1a237e31-8cd8-4931-d113-fbe675d5ef30"
   },
   "outputs": [
    {
     "data": {
      "text/plain": [
       "array([[1727,  699],\n",
       "       [ 690, 1662]], dtype=int64)"
      ]
     },
     "execution_count": 110,
     "metadata": {},
     "output_type": "execute_result"
    }
   ],
   "source": [
    "confusion_matrix(y_test_ro, y_pred_ro)"
   ]
  },
  {
   "cell_type": "code",
   "execution_count": 111,
   "metadata": {
    "colab": {
     "base_uri": "https://localhost:8080/",
     "height": 0
    },
    "executionInfo": {
     "elapsed": 567,
     "status": "ok",
     "timestamp": 1710863789709,
     "user": {
      "displayName": "Lakshmana Vinay Maddala",
      "userId": "04696997615404432546"
     },
     "user_tz": -330
    },
    "id": "XzxVhdDhbXZh",
    "outputId": "a41b186e-a09b-42b4-ea4e-4bf04bba5f0f"
   },
   "outputs": [
    {
     "name": "stdout",
     "output_type": "stream",
     "text": [
      "              precision    recall  f1-score   support\n",
      "\n",
      "           0       0.71      0.71      0.71      2426\n",
      "           1       0.70      0.71      0.71      2352\n",
      "\n",
      "    accuracy                           0.71      4778\n",
      "   macro avg       0.71      0.71      0.71      4778\n",
      "weighted avg       0.71      0.71      0.71      4778\n",
      "\n"
     ]
    }
   ],
   "source": [
    "print(classification_report(y_test_ro, y_pred_ro))"
   ]
  },
  {
   "cell_type": "markdown",
   "metadata": {
    "id": "WdSn6AnkbkDY"
   },
   "source": [
    "***Decision Tree Classifier***"
   ]
  },
  {
   "cell_type": "code",
   "execution_count": 112,
   "metadata": {
    "executionInfo": {
     "elapsed": 2,
     "status": "ok",
     "timestamp": 1710863882041,
     "user": {
      "displayName": "Lakshmana Vinay Maddala",
      "userId": "04696997615404432546"
     },
     "user_tz": -330
    },
    "id": "zbRMpULVbagy"
   },
   "outputs": [],
   "source": [
    "from sklearn.tree import DecisionTreeClassifier"
   ]
  },
  {
   "cell_type": "code",
   "execution_count": 113,
   "metadata": {
    "colab": {
     "base_uri": "https://localhost:8080/",
     "height": 74
    },
    "executionInfo": {
     "elapsed": 672,
     "status": "ok",
     "timestamp": 1710863898623,
     "user": {
      "displayName": "Lakshmana Vinay Maddala",
      "userId": "04696997615404432546"
     },
     "user_tz": -330
    },
    "id": "ZP_BiVSdbxL-",
    "outputId": "060b3aad-7571-4f36-c347-93df1e7cf9d0"
   },
   "outputs": [
    {
     "data": {
      "text/plain": [
       "DecisionTreeClassifier(random_state=42)"
      ]
     },
     "execution_count": 113,
     "metadata": {},
     "output_type": "execute_result"
    }
   ],
   "source": [
    "classifier = DecisionTreeClassifier(random_state=42)\n",
    "classifier.fit(x_train, y_train)"
   ]
  },
  {
   "cell_type": "code",
   "execution_count": 114,
   "metadata": {
    "executionInfo": {
     "elapsed": 563,
     "status": "ok",
     "timestamp": 1710863910718,
     "user": {
      "displayName": "Lakshmana Vinay Maddala",
      "userId": "04696997615404432546"
     },
     "user_tz": -330
    },
    "id": "-GhVZGs9b0__"
   },
   "outputs": [],
   "source": [
    "y_pred = classifier.predict(x_test)"
   ]
  },
  {
   "cell_type": "code",
   "execution_count": 115,
   "metadata": {
    "colab": {
     "base_uri": "https://localhost:8080/",
     "height": 0
    },
    "executionInfo": {
     "elapsed": 8,
     "status": "ok",
     "timestamp": 1710863937818,
     "user": {
      "displayName": "Lakshmana Vinay Maddala",
      "userId": "04696997615404432546"
     },
     "user_tz": -330
    },
    "id": "w299AyR8b3z1",
    "outputId": "9960a2b0-8001-44c4-9dae-b18040f45d35"
   },
   "outputs": [
    {
     "data": {
      "text/plain": [
       "array([[2043,  376],\n",
       "       [ 337,  244]], dtype=int64)"
      ]
     },
     "execution_count": 115,
     "metadata": {},
     "output_type": "execute_result"
    }
   ],
   "source": [
    "confusion_matrix(y_test, y_pred)"
   ]
  },
  {
   "cell_type": "code",
   "execution_count": 116,
   "metadata": {
    "colab": {
     "base_uri": "https://localhost:8080/",
     "height": 0
    },
    "executionInfo": {
     "elapsed": 666,
     "status": "ok",
     "timestamp": 1710863956412,
     "user": {
      "displayName": "Lakshmana Vinay Maddala",
      "userId": "04696997615404432546"
     },
     "user_tz": -330
    },
    "id": "lwFZFwbfb7T6",
    "outputId": "52e2b541-7583-4cb6-bde1-aa3b5e75997b"
   },
   "outputs": [
    {
     "name": "stdout",
     "output_type": "stream",
     "text": [
      "              precision    recall  f1-score   support\n",
      "\n",
      "           0       0.86      0.84      0.85      2419\n",
      "           1       0.39      0.42      0.41       581\n",
      "\n",
      "    accuracy                           0.76      3000\n",
      "   macro avg       0.63      0.63      0.63      3000\n",
      "weighted avg       0.77      0.76      0.77      3000\n",
      "\n"
     ]
    }
   ],
   "source": [
    "print(classification_report(y_test, y_pred))"
   ]
  },
  {
   "cell_type": "markdown",
   "metadata": {
    "id": "FO7jvaU2cIPx"
   },
   "source": [
    "***Model With Random Under Sample Data***"
   ]
  },
  {
   "cell_type": "code",
   "execution_count": 117,
   "metadata": {
    "executionInfo": {
     "elapsed": 2,
     "status": "ok",
     "timestamp": 1710864092398,
     "user": {
      "displayName": "Lakshmana Vinay Maddala",
      "userId": "04696997615404432546"
     },
     "user_tz": -330
    },
    "id": "sXd27fJDcB8i"
   },
   "outputs": [],
   "source": [
    "classifier_rs = DecisionTreeClassifier(random_state=42)\n",
    "classifier_rs.fit(x_train_rs, y_train_rs)\n",
    "y_pred_rs = classifier_rs.predict(x_test_rs)"
   ]
  },
  {
   "cell_type": "code",
   "execution_count": 118,
   "metadata": {
    "colab": {
     "base_uri": "https://localhost:8080/",
     "height": 0
    },
    "executionInfo": {
     "elapsed": 482,
     "status": "ok",
     "timestamp": 1710864095004,
     "user": {
      "displayName": "Lakshmana Vinay Maddala",
      "userId": "04696997615404432546"
     },
     "user_tz": -330
    },
    "id": "-9g9dEjscU1Q",
    "outputId": "c869cb9a-5ffe-464a-873a-848465c79ebf"
   },
   "outputs": [
    {
     "data": {
      "text/plain": [
       "array([[393, 210],\n",
       "       [209, 411]], dtype=int64)"
      ]
     },
     "execution_count": 118,
     "metadata": {},
     "output_type": "execute_result"
    }
   ],
   "source": [
    "confusion_matrix(y_test_rs, y_pred_rs)"
   ]
  },
  {
   "cell_type": "code",
   "execution_count": 119,
   "metadata": {
    "colab": {
     "base_uri": "https://localhost:8080/",
     "height": 0
    },
    "executionInfo": {
     "elapsed": 6,
     "status": "ok",
     "timestamp": 1710864096461,
     "user": {
      "displayName": "Lakshmana Vinay Maddala",
      "userId": "04696997615404432546"
     },
     "user_tz": -330
    },
    "id": "1VN2I0e_cWDk",
    "outputId": "88447b50-72e7-4c8f-a261-a0bcc53db8e9"
   },
   "outputs": [
    {
     "name": "stdout",
     "output_type": "stream",
     "text": [
      "              precision    recall  f1-score   support\n",
      "\n",
      "           0       0.65      0.65      0.65       603\n",
      "           1       0.66      0.66      0.66       620\n",
      "\n",
      "    accuracy                           0.66      1223\n",
      "   macro avg       0.66      0.66      0.66      1223\n",
      "weighted avg       0.66      0.66      0.66      1223\n",
      "\n"
     ]
    }
   ],
   "source": [
    "print(classification_report(y_test_rs, y_pred_rs))"
   ]
  },
  {
   "cell_type": "markdown",
   "metadata": {
    "id": "oZkbzfFjcnKh"
   },
   "source": [
    "***Model With Random Over Sample Data***"
   ]
  },
  {
   "cell_type": "code",
   "execution_count": 120,
   "metadata": {
    "executionInfo": {
     "elapsed": 9,
     "status": "ok",
     "timestamp": 1710864210990,
     "user": {
      "displayName": "Lakshmana Vinay Maddala",
      "userId": "04696997615404432546"
     },
     "user_tz": -330
    },
    "id": "QFVtfW3Dclmq"
   },
   "outputs": [],
   "source": [
    "classifier_ro = DecisionTreeClassifier(random_state=42)\n",
    "classifier_ro.fit(x_train_ro, y_train_ro)\n",
    "y_pred_ro = classifier_ro.predict(x_test_ro)"
   ]
  },
  {
   "cell_type": "code",
   "execution_count": 121,
   "metadata": {
    "colab": {
     "base_uri": "https://localhost:8080/",
     "height": 0
    },
    "executionInfo": {
     "elapsed": 9,
     "status": "ok",
     "timestamp": 1710864210990,
     "user": {
      "displayName": "Lakshmana Vinay Maddala",
      "userId": "04696997615404432546"
     },
     "user_tz": -330
    },
    "id": "WmZy-iXscutr",
    "outputId": "f6ee8c6a-d6d0-4bf0-e12d-c821b0b73e4a"
   },
   "outputs": [
    {
     "data": {
      "text/plain": [
       "array([[1978,  448],\n",
       "       [ 237, 2115]], dtype=int64)"
      ]
     },
     "execution_count": 121,
     "metadata": {},
     "output_type": "execute_result"
    }
   ],
   "source": [
    "confusion_matrix(y_test_ro, y_pred_ro)"
   ]
  },
  {
   "cell_type": "code",
   "execution_count": 122,
   "metadata": {
    "colab": {
     "base_uri": "https://localhost:8080/",
     "height": 0
    },
    "executionInfo": {
     "elapsed": 7,
     "status": "ok",
     "timestamp": 1710864211448,
     "user": {
      "displayName": "Lakshmana Vinay Maddala",
      "userId": "04696997615404432546"
     },
     "user_tz": -330
    },
    "id": "Dgnj9iLicwQX",
    "outputId": "1c094f6b-b83c-4b4d-b56d-8ac64318d718"
   },
   "outputs": [
    {
     "name": "stdout",
     "output_type": "stream",
     "text": [
      "              precision    recall  f1-score   support\n",
      "\n",
      "           0       0.89      0.82      0.85      2426\n",
      "           1       0.83      0.90      0.86      2352\n",
      "\n",
      "    accuracy                           0.86      4778\n",
      "   macro avg       0.86      0.86      0.86      4778\n",
      "weighted avg       0.86      0.86      0.86      4778\n",
      "\n"
     ]
    }
   ],
   "source": [
    "print(classification_report(y_test_ro, y_pred_ro)) # High Accuracy"
   ]
  },
  {
   "cell_type": "markdown",
   "metadata": {
    "id": "2irog4i8dHcx"
   },
   "source": [
    "***Random Forest Classifier***"
   ]
  },
  {
   "cell_type": "code",
   "execution_count": 123,
   "metadata": {
    "executionInfo": {
     "elapsed": 2,
     "status": "ok",
     "timestamp": 1710864272144,
     "user": {
      "displayName": "Lakshmana Vinay Maddala",
      "userId": "04696997615404432546"
     },
     "user_tz": -330
    },
    "id": "Pj1WAJcqdBij"
   },
   "outputs": [],
   "source": [
    "from sklearn.ensemble import RandomForestClassifier"
   ]
  },
  {
   "cell_type": "code",
   "execution_count": 124,
   "metadata": {
    "colab": {
     "base_uri": "https://localhost:8080/",
     "height": 74
    },
    "executionInfo": {
     "elapsed": 2761,
     "status": "ok",
     "timestamp": 1710864286785,
     "user": {
      "displayName": "Lakshmana Vinay Maddala",
      "userId": "04696997615404432546"
     },
     "user_tz": -330
    },
    "id": "vALCLmCndQYu",
    "outputId": "1248f478-a074-479b-feda-32d72b2c8432"
   },
   "outputs": [
    {
     "data": {
      "text/plain": [
       "RandomForestClassifier(random_state=42)"
      ]
     },
     "execution_count": 124,
     "metadata": {},
     "output_type": "execute_result"
    }
   ],
   "source": [
    "classifier = RandomForestClassifier(n_estimators=100, random_state=42)\n",
    "classifier.fit(x_train, y_train)"
   ]
  },
  {
   "cell_type": "code",
   "execution_count": 125,
   "metadata": {
    "executionInfo": {
     "elapsed": 492,
     "status": "ok",
     "timestamp": 1710864297662,
     "user": {
      "displayName": "Lakshmana Vinay Maddala",
      "userId": "04696997615404432546"
     },
     "user_tz": -330
    },
    "id": "WasbW5BXdTUi"
   },
   "outputs": [],
   "source": [
    "y_pred = classifier.predict(x_test)"
   ]
  },
  {
   "cell_type": "code",
   "execution_count": 126,
   "metadata": {
    "colab": {
     "base_uri": "https://localhost:8080/",
     "height": 0
    },
    "executionInfo": {
     "elapsed": 13,
     "status": "ok",
     "timestamp": 1710864306112,
     "user": {
      "displayName": "Lakshmana Vinay Maddala",
      "userId": "04696997615404432546"
     },
     "user_tz": -330
    },
    "id": "3XPZKz3LdWfx",
    "outputId": "be5e51d6-bfed-4be0-e5e1-4aa0d4a80faa"
   },
   "outputs": [
    {
     "data": {
      "text/plain": [
       "array([[2328,   91],\n",
       "       [ 369,  212]], dtype=int64)"
      ]
     },
     "execution_count": 126,
     "metadata": {},
     "output_type": "execute_result"
    }
   ],
   "source": [
    "confusion_matrix(y_test, y_pred)"
   ]
  },
  {
   "cell_type": "code",
   "execution_count": 127,
   "metadata": {
    "colab": {
     "base_uri": "https://localhost:8080/",
     "height": 0
    },
    "executionInfo": {
     "elapsed": 406,
     "status": "ok",
     "timestamp": 1710864317896,
     "user": {
      "displayName": "Lakshmana Vinay Maddala",
      "userId": "04696997615404432546"
     },
     "user_tz": -330
    },
    "id": "K3SDgHkndYlh",
    "outputId": "8f720399-04f5-4b37-aa49-9a1dae2c1f86"
   },
   "outputs": [
    {
     "name": "stdout",
     "output_type": "stream",
     "text": [
      "              precision    recall  f1-score   support\n",
      "\n",
      "           0       0.86      0.96      0.91      2419\n",
      "           1       0.70      0.36      0.48       581\n",
      "\n",
      "    accuracy                           0.85      3000\n",
      "   macro avg       0.78      0.66      0.69      3000\n",
      "weighted avg       0.83      0.85      0.83      3000\n",
      "\n"
     ]
    }
   ],
   "source": [
    "print(classification_report(y_test, y_pred))"
   ]
  },
  {
   "cell_type": "markdown",
   "metadata": {
    "id": "qAUorC3wddYt"
   },
   "source": [
    "***Model With Random Under Sample Data***"
   ]
  },
  {
   "cell_type": "code",
   "execution_count": 128,
   "metadata": {
    "executionInfo": {
     "elapsed": 982,
     "status": "ok",
     "timestamp": 1710864388538,
     "user": {
      "displayName": "Lakshmana Vinay Maddala",
      "userId": "04696997615404432546"
     },
     "user_tz": -330
    },
    "id": "JLImPPQYdbeB"
   },
   "outputs": [],
   "source": [
    "classifier_rs = RandomForestClassifier(n_estimators=100, random_state=42)\n",
    "classifier_rs.fit(x_train_rs, y_train_rs)\n",
    "y_pred_rs = classifier_rs.predict(x_test_rs)"
   ]
  },
  {
   "cell_type": "code",
   "execution_count": 129,
   "metadata": {
    "colab": {
     "base_uri": "https://localhost:8080/",
     "height": 0
    },
    "executionInfo": {
     "elapsed": 658,
     "status": "ok",
     "timestamp": 1710864405657,
     "user": {
      "displayName": "Lakshmana Vinay Maddala",
      "userId": "04696997615404432546"
     },
     "user_tz": -330
    },
    "id": "V04Jd-EAdsi7",
    "outputId": "0445c78f-3453-44a8-c6a2-b52733349641"
   },
   "outputs": [
    {
     "data": {
      "text/plain": [
       "array([[463, 140],\n",
       "       [172, 448]], dtype=int64)"
      ]
     },
     "execution_count": 129,
     "metadata": {},
     "output_type": "execute_result"
    }
   ],
   "source": [
    "confusion_matrix(y_test_rs, y_pred_rs)"
   ]
  },
  {
   "cell_type": "code",
   "execution_count": 130,
   "metadata": {
    "colab": {
     "base_uri": "https://localhost:8080/",
     "height": 0
    },
    "executionInfo": {
     "elapsed": 7,
     "status": "ok",
     "timestamp": 1710864420627,
     "user": {
      "displayName": "Lakshmana Vinay Maddala",
      "userId": "04696997615404432546"
     },
     "user_tz": -330
    },
    "id": "60wG7z7qdwzQ",
    "outputId": "9b3402c5-2ec1-4127-a5a6-7240df33fc66"
   },
   "outputs": [
    {
     "name": "stdout",
     "output_type": "stream",
     "text": [
      "              precision    recall  f1-score   support\n",
      "\n",
      "           0       0.73      0.77      0.75       603\n",
      "           1       0.76      0.72      0.74       620\n",
      "\n",
      "    accuracy                           0.74      1223\n",
      "   macro avg       0.75      0.75      0.74      1223\n",
      "weighted avg       0.75      0.74      0.74      1223\n",
      "\n"
     ]
    }
   ],
   "source": [
    "print(classification_report(y_test_rs, y_pred_rs))"
   ]
  },
  {
   "cell_type": "markdown",
   "metadata": {
    "id": "MVBb4DS3d34p"
   },
   "source": [
    "***Model With Random Over Sample Data***"
   ]
  },
  {
   "cell_type": "code",
   "execution_count": 131,
   "metadata": {
    "executionInfo": {
     "elapsed": 2155,
     "status": "ok",
     "timestamp": 1710864481537,
     "user": {
      "displayName": "Lakshmana Vinay Maddala",
      "userId": "04696997615404432546"
     },
     "user_tz": -330
    },
    "id": "nl7b1E8rd0at"
   },
   "outputs": [],
   "source": [
    "classifier_ro = RandomForestClassifier(n_estimators=100, random_state=42)\n",
    "classifier_ro.fit(x_train_ro, y_train_ro)\n",
    "y_pred_ro = classifier_ro.predict(x_test_ro)"
   ]
  },
  {
   "cell_type": "code",
   "execution_count": 132,
   "metadata": {
    "colab": {
     "base_uri": "https://localhost:8080/",
     "height": 0
    },
    "executionInfo": {
     "elapsed": 10,
     "status": "ok",
     "timestamp": 1710864495112,
     "user": {
      "displayName": "Lakshmana Vinay Maddala",
      "userId": "04696997615404432546"
     },
     "user_tz": -330
    },
    "id": "Otr9vXx1eC_z",
    "outputId": "5f71c3d8-76c5-4810-c469-4eeed072e95d"
   },
   "outputs": [
    {
     "data": {
      "text/plain": [
       "array([[2175,  251],\n",
       "       [  53, 2299]], dtype=int64)"
      ]
     },
     "execution_count": 132,
     "metadata": {},
     "output_type": "execute_result"
    }
   ],
   "source": [
    "confusion_matrix(y_test_ro, y_pred_ro)"
   ]
  },
  {
   "cell_type": "code",
   "execution_count": 133,
   "metadata": {
    "colab": {
     "base_uri": "https://localhost:8080/",
     "height": 0
    },
    "executionInfo": {
     "elapsed": 8,
     "status": "ok",
     "timestamp": 1710864506528,
     "user": {
      "displayName": "Lakshmana Vinay Maddala",
      "userId": "04696997615404432546"
     },
     "user_tz": -330
    },
    "id": "9rnBveMCeG1m",
    "outputId": "c19e18a2-8dfd-4179-a15d-108f1db9fc19"
   },
   "outputs": [
    {
     "name": "stdout",
     "output_type": "stream",
     "text": [
      "              precision    recall  f1-score   support\n",
      "\n",
      "           0       0.98      0.90      0.93      2426\n",
      "           1       0.90      0.98      0.94      2352\n",
      "\n",
      "    accuracy                           0.94      4778\n",
      "   macro avg       0.94      0.94      0.94      4778\n",
      "weighted avg       0.94      0.94      0.94      4778\n",
      "\n"
     ]
    }
   ],
   "source": [
    "print(classification_report(y_test_ro, y_pred_ro)) # High Accuracy"
   ]
  },
  {
   "cell_type": "code",
   "execution_count": 134,
   "metadata": {
    "executionInfo": {
     "elapsed": 463,
     "status": "ok",
     "timestamp": 1710864717174,
     "user": {
      "displayName": "Lakshmana Vinay Maddala",
      "userId": "04696997615404432546"
     },
     "user_tz": -330
    },
    "id": "hnJZF-NneJjB"
   },
   "outputs": [],
   "source": [
    "results_high_accuracy_models={'SVM':89,'LogisticRegression':82,'DecisionTreeClassifier':86,'RandomForestClassifier':94}"
   ]
  },
  {
   "cell_type": "code",
   "execution_count": 135,
   "metadata": {
    "colab": {
     "base_uri": "https://localhost:8080/",
     "height": 676
    },
    "executionInfo": {
     "elapsed": 991,
     "status": "ok",
     "timestamp": 1710864731212,
     "user": {
      "displayName": "Lakshmana Vinay Maddala",
      "userId": "04696997615404432546"
     },
     "user_tz": -330
    },
    "id": "8a-0fcKme858",
    "outputId": "8fdd493c-3868-48f6-84fd-28456d57d0c3"
   },
   "outputs": [
    {
     "data": {
      "image/png": "[encoded data removed]",
      "text/plain": [
       "<Figure size 1000x600 with 1 Axes>"
      ]
     },
     "metadata": {},
     "output_type": "display_data"
    }
   ],
   "source": [
    "model_names = list(results_high_accuracy_models.keys())\n",
    "accuracies = list(results_high_accuracy_models.values())\n",
    "\n",
    "plt.figure(figsize=(10, 6))\n",
    "plt.bar(model_names, accuracies, color='red')\n",
    "plt.xlabel('Models')\n",
    "plt.ylabel('Accuracies')\n",
    "plt.title('Accuracy of High-Performance Models')\n",
    "plt.ylim(0, 100)\n",
    "plt.xticks(rotation=45)\n",
    "plt.show()"
   ]
  },
  {
   "cell_type": "markdown",
   "metadata": {
    "id": "84Nb8ILFfHIT"
   },
   "source": [
    "***Based on the accuracies and considering both Type 1 and Type 2 errors, the Random Forest classifier emerges as the most suitable model for this dataset.***"
   ]
  }
 ],
 "metadata": {
  "colab": {
   "authorship_tag": "ABX9TyNDbRRB+h4YfruzqInsWsm1",
   "provenance": []
  },
  "kernelspec": {
   "display_name": "Python 3 (ipykernel)",
   "language": "python",
   "name": "python3"
  },
  "language_info": {
   "codemirror_mode": {
    "name": "ipython",
    "version": 3
   },
   "file_extension": ".py",
   "mimetype": "text/x-python",
   "name": "python",
   "nbconvert_exporter": "python",
   "pygments_lexer": "ipython3",
   "version": "3.9.13"
  }
 },
 "nbformat": 4,
 "nbformat_minor": 1
}
